{
 "cells": [
  {
   "cell_type": "code",
   "execution_count": 1,
   "metadata": {},
   "outputs": [
    {
     "name": "stdout",
     "output_type": "stream",
     "text": [
      "     ticker                       name                      sector  weight  \\\n",
      "0       DRI           1&1 DRILLISCH AG               Kommunikation     NaN   \n",
      "1         -                    1057417                           -     NaN   \n",
      "2         -                    1094961                           -     NaN   \n",
      "3       III               3I GROUP PLC                  Financials     NaN   \n",
      "4         -                    5380031                           -     NaN   \n",
      "...     ...                        ...                         ...     ...   \n",
      "2640    ZO1                 ZOOPLUS AG      Zyklische Konsumgüter      NaN   \n",
      "2641      -    ZOOPLUS AG INTERIM LINE      Zyklische Konsumgüter      NaN   \n",
      "2642   ROSE          ZUR ROSE GROUP AG  Nichtzyklische Konsumgüter     NaN   \n",
      "2643  ZFSVF  ZURICH INSURANCE GROUP AG                           -     NaN   \n",
      "2644   ZURN  ZURICH INSURANCE GROUP AG                  Financials     NaN   \n",
      "\n",
      "                      region                    stock_exchange        date  \n",
      "0                Deutschland                             Xetra  2019-03-07  \n",
      "1                          -                                 -  2013-05-15  \n",
      "2                          -                                 -  2013-05-15  \n",
      "3     Vereinigtes Königreich             London Stock Exchange  2021-11-04  \n",
      "4                          -                                 -  2014-03-20  \n",
      "...                      ...                               ...         ...  \n",
      "2640             Deutschland                             Xetra  2021-11-04  \n",
      "2641             Deutschland                             Xetra  2021-11-29  \n",
      "2642                 Schweiz                SIX Swiss Exchange  2021-11-04  \n",
      "2643                 Schweiz  Non-Nms Quotation Service (Nnqs)  2013-06-14  \n",
      "2644                 Schweiz                SIX Swiss Exchange  2021-11-04  \n",
      "\n",
      "[2645 rows x 7 columns]\n"
     ]
    }
   ],
   "source": [
    "import pandas as pd\n",
    "df = pd.read_csv('/Users/jonathanzeh/Library/CloudStorage/OneDrive-Personal/BA_Thesis/BA_coding/datasets/ishares_data/ishares_merged_data/stoxx_europe_600/stoxx_europe_600_overview_raw.csv', sep = \",\")\n",
    "print(df)"
   ]
  },
  {
   "cell_type": "code",
   "execution_count": null,
   "metadata": {},
   "outputs": [],
   "source": []
  }
 ],
 "metadata": {
  "kernelspec": {
   "display_name": "Python 3",
   "language": "python",
   "name": "python3"
  },
  "language_info": {
   "codemirror_mode": {
    "name": "ipython",
    "version": 3
   },
   "file_extension": ".py",
   "mimetype": "text/x-python",
   "name": "python",
   "nbconvert_exporter": "python",
   "pygments_lexer": "ipython3",
   "version": "3.11.5"
  }
 },
 "nbformat": 4,
 "nbformat_minor": 2
}
