{
 "cells": [
  {
   "cell_type": "code",
   "execution_count": 7,
   "metadata": {},
   "outputs": [
    {
     "name": "stdout",
     "output_type": "stream",
     "text": [
      "['NESN.S', 'ASML.AS']\n",
      "['2023-01-31', '2023-02-28', '2023-03-31', '2023-04-28', '2023-05-31', '2023-06-30', '2023-07-31', '2023-08-31', '2023-09-29', '2023-10-31', '2023-11-30', '2023-12-29']\n"
     ]
    },
    {
     "name": "stderr",
     "output_type": "stream",
     "text": [
      "C:\\Users\\Shadow\\AppData\\Local\\Temp\\ipykernel_14828\\2896905011.py:24: FutureWarning: 'BM' is deprecated and will be removed in a future version, please use 'BME' instead.\n",
      "  business_days = pd.date_range(start=start_date, end=end_date, freq=\"BM\")\n"
     ]
    },
    {
     "name": "stdout",
     "output_type": "stream",
     "text": [
      "(  Instrument  Price Close  Daily Total Return  Volume  Company Market Cap  \\\n",
      "0     NESN.S     0.000105            0.743878       0       280347.576852   \n",
      "1    ASML.AS     0.000682           -0.612334       0       274819.442508   \n",
      "\n",
      "          Turnover  \n",
      "0  207241558.69855  \n",
      "1      211538880.3  , None)\n"
     ]
    },
    {
     "name": "stderr",
     "output_type": "stream",
     "text": [
      "C:\\Users\\Shadow\\AppData\\Local\\Packages\\PythonSoftwareFoundation.Python.3.12_qbz5n2kfra8p0\\LocalCache\\local-packages\\Python312\\site-packages\\eikon\\data_grid.py:255: FutureWarning: errors='ignore' is deprecated and will raise in a future version. Use to_numeric without passing `errors` and catch exceptions explicitly instead\n",
      "  df = df.apply(pd.to_numeric, errors='ignore')\n"
     ]
    }
   ],
   "source": [
    "import pandas as pd\n",
    "import eikon as ek\n",
    "import warnings\n",
    "import datetime\n",
    "\n",
    "ek.set_app_key('9aceb0f0b92f4b5cab82266c64eee1e83614934e')\n",
    "\n",
    "# Define the date range\n",
    "start_date = '2023-01-01'\n",
    "end_date = '2024-01-01'\n",
    "\n",
    "# Import the CSV file containing the stock RICs\n",
    "#ric_df = pd.read_csv('C:\\\\Users\\\\Shadow\\\\OneDrive\\\\BA_Thesis\\\\BA_coding\\\\datasets\\\\eikon_data\\\\constituents_stoxx_europe_600.csv')  # Make sure to provide the correct path\n",
    "\n",
    "# Extract the RICs into a list\n",
    "#ric_list = ric_df['Constituent RIC'].tolist()\n",
    "ric_list = [\"NESN.S\", \"ASML.AS\"]\n",
    "print(ric_list)\n",
    "\n",
    "# Initialize an empty DataFrame to aggregate the results\n",
    "aggregated_df = pd.DataFrame()\n",
    "\n",
    "# Generate the last business day of each month within the date range\n",
    "business_days = pd.date_range(start=start_date, end=end_date, freq=\"BM\")\n",
    "date_list = [day.strftime('%Y-%m-%d') for day in business_days]  # Formatting dates as strings if needed\n",
    "print(date_list)\n",
    "\n",
    "df = ek.get_data(instruments = ric_list,\n",
    "                    fields = [\"TR.PriceClose\", \"TR.TotalReturn1D\", \"TR.Volume\", \"TR.CompanyMarketCap\", \"TR.TURNOVER\"],\n",
    "                    parameters = {\"SDate\": \"2023-01-01\", \"EDate\": \"2024-01-01\", \"Curn\":\"EUR\", \"Scale\":6})\n",
    "#\"TR.BVPSMean(Period=FY1)\"\n",
    "print(df)"
   ]
  }
 ],
 "metadata": {
  "kernelspec": {
   "display_name": "Python 3",
   "language": "python",
   "name": "python3"
  },
  "language_info": {
   "codemirror_mode": {
    "name": "ipython",
    "version": 3
   },
   "file_extension": ".py",
   "mimetype": "text/x-python",
   "name": "python",
   "nbconvert_exporter": "python",
   "pygments_lexer": "ipython3",
   "version": "3.12.3"
  }
 },
 "nbformat": 4,
 "nbformat_minor": 2
}
