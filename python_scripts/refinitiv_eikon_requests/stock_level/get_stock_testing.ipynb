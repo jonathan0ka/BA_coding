{
 "cells": [
  {
   "cell_type": "code",
   "execution_count": 12,
   "metadata": {},
   "outputs": [
    {
     "name": "stdout",
     "output_type": "stream",
     "text": [
      "['BOUY.PA', 'AMPF.MI', 'CRH.L', 'GETP.PA', 'HRGV.L', 'INGA.AS', 'BRBY.L', 'DIAS.MI', 'WLN.PA', 'SCMN.S', 'ISP.MI', 'CABK.MC', 'HSX.L', 'SCOR.PA', 'MWDP.PA', 'UPM.HE', 'BBVA.MC', 'EDP.LS', 'INVEb.ST', 'SJP.L', 'AHT.L', 'ANTO.L', 'RHMG.DE', 'BNPP.PA', 'SPSN.S', 'ADDTb.ST', 'DEMANT.CO', 'AAK.ST', 'SIEGn.DE', 'JYSK.CO', 'TLIT.MI', 'OCI.AS', 'HSBA.L', 'TEL.OL', 'INVP.L', 'BMPS.MI', 'BC8G.DE', 'BATS.L', 'SOGN.PA', 'OCDO.L', 'ELIS.PA', 'PKO.WA', 'CFR.S', 'TW.L', 'MDBI.MI', 'RUBF.PA', 'ESSITYb.ST', 'SDR.L', 'BAYGn.DE', 'GXIG.DE', 'ICAG.L', 'DTEGn.DE', 'BWY.L', 'WCHG.DE', 'FPE3_p.DE', 'IDSI.L', 'AKZO.AS', 'ELISA.HE', 'VIV.PA', 'ADEN.S', 'PRY.MI', 'NESN.S', 'CRDI.MI', 'BOLL.PA', 'ALLN.S', 'GL9.I', 'BASFn.DE', 'VRLA.PA', 'SQN.S', 'HEIO.AS', 'BLND.L', 'HOTG.DE', 'MICP.PA', 'LIGHT.AS', 'CMBN.S', 'KSP.I', 'DNB.OL', 'SABE.MC', 'DTGGe.DE', 'UMI.BR', 'WLSNc.AS', 'SY1G.DE', 'VMUK.L', 'SOON.S', 'SVT.L', 'FRVIA.PA', 'TEPRF.PA', 'AKRBP.OL', 'SAN.MC', 'REL.L', 'PGHN.S', 'OREP.PA', 'LDOF.MI', 'BMEB.L', 'ALFA.ST', 'KNEBV.HE', 'EKTAb.ST', 'DKSH.S', 'LUNDb.ST', 'DB1Gn.DE', 'HNRGn.DE', 'AAL.L', 'DANO.PA', 'ADYEN.AS', 'HEIN.AS', 'CLN.S', 'ALVG.DE', 'PST.MI', 'BVI.PA', 'TPK.L', 'CAPP.PA', 'RIO.L', 'EUFI.PA', 'TEGG.DE', 'RYA.I', 'COFB.BR', 'SALM.OL', 'CTEC.L', 'EVOG.ST', 'RAAG.DE', 'RECI.MI', 'MT.AS', 'PEO.WA', 'EURA.PA', 'GF.S', 'RCOP.PA', 'NEXS.PA', 'ANA.MC', 'BVIC.L', 'CAST.ST', 'CVO.PA', 'IHG.L', 'PNDORA.CO', 'ADML.L', 'PSN.L', 'SAABb.ST', 'TEL2b.ST', 'ORSTED.CO', 'MUVGn.DE', 'ZURN.S', 'KOJAMO.HE', 'SWEDa.ST', 'HEIG.DE', 'IG.MI', 'LLOY.L', 'AIRP.PA', 'GSK.L', 'BAES.L', 'SAVE.ST', 'BOL.ST', 'UU.L', 'RXL.PA', 'NXT.L', 'LISP.S', 'EMII.MI', 'ORK.OL', 'METSO.HE', 'STB.OL', 'AV.L', 'LEGn.DE', 'TIGOsdb.ST', 'NWG.L', 'VOLVb.ST', 'HUSQb.ST', 'SUBC.OL', 'LOGN.S', 'VIS.MC', 'STAN.L', 'ALSO.PA', 'DLN.L', 'TELIA.ST', 'SOF.BR', 'IGG.L', 'GALP.LS', 'HLMA.L', 'OMVV.VI', 'BIRG.I', 'ACS.MC', 'VALMT.HE', 'BESI.AS', 'IMB.L', 'HAYS.L', 'INPST.AS', 'GFCP.PA', 'RACE.MI', 'RILBA.CO', 'ALCC.S', 'AFXG.DE', 'BKGH.L', 'BALN.S', 'MRCG.DE', 'SGSN.S', 'PHNX.L', 'FBK.MI', 'BT.L', 'ROR.L', 'FRO.OL', 'TSCO.L', 'DANSKE.CO', 'PERP.PA', 'EQTAB.ST', 'LPPP.WA', 'SPIE.PA', 'GTT.PA', 'HPOLb.ST', 'TMV.DE', 'DGE.L', 'ELE.MC', 'NAFG.DE', 'BALF.L', 'SFSN.S', 'HLN.L', 'PRTP.PA', 'TRELb.ST', 'BYG.L', 'WOSG.L', 'TE.PA', 'RKT.L', 'SAMPO.HE', 'DNP.WA', 'AZN.L', 'KYGa.I', 'CCH.L', 'RWEG.DE', 'AMA.MC', 'ORAN.PA', 'LXIL.L^C24', 'WIHL.ST', 'VWS.CO', 'NKT.CO', 'ADEA.OL', 'LHAG.DE', 'VERB.VI', 'AXAF.PA', 'CNA.L', 'COLOb.CO', 'SATG_p.DE', 'ACLN.S', 'BEAN.S', 'BDEV.L', 'UHR.S', 'NHY.OL', 'WDPP.BR', 'SAGAb.ST', 'SSABb.ST', 'FREG.DE', 'ASSAb.ST', 'REY.MI', 'TEF.MC', 'VTYV.L', 'FMEG.DE', 'DSFIR.AS', 'PUBP.PA', 'ORNBV.HE', 'DCC.L', 'LMPL.L', 'VLLP.PA', 'EXOR.AS', 'LIFCOb.ST', 'NEXII.MI', 'ELUXb.ST', 'HRA.MI', 'AIBG.I', 'GEBN.S', 'GAW.L', 'TENR.MI', 'SDFGn.DE', 'SECTb.ST', 'ULVR.L', 'MONC.MI', 'SOPR.PA', 'AMUN.PA', 'BCP.LS', 'ADP.PA', 'BP.L', 'ABNd.AS', 'AEGN.AS', 'IMI.L', 'WRT1V.HE', 'WISEa.L', 'BAWG.VI', 'INF.L', 'FNOX.ST', 'BNZL.L', 'EDPR.LS', 'LSEG.L', 'KINVb.ST', 'TECN.S', 'RAND.AS', 'UBIP.PA', 'MRL.MC', 'KESKOB.HE', 'ABDN.L', 'TLXGn.DE', 'LAND.L', 'AXFO.ST', 'INDUc.ST', 'FER.MC', 'TUIT.L', 'SCHP.S', 'ERICb.ST', 'LONN.S', 'NDAFI.HE', 'JDEP.AS', 'HFGG.DE', 'LOIM.PA', 'FORTUM.HE', 'CONG.DE', 'SFZN.S', 'IETB.BR', 'ABBN.S', 'AIR.PA', 'IFXGn.DE', 'BARN.S', 'CAGR.PA', 'CWK.L', 'THULE.ST', 'ATCOa.ST', 'QIA.DE', 'ZELA.CO', 'ZALG.DE', 'ABF.L', 'SSPG.L', 'SGRO.L', 'WEIR.L', 'SAND.ST', 'GBLB.BR', 'RS1R.L', 'MRON.L', 'AUTOA.L', 'BMWG.DE', 'WBSV.VI', 'BANB.S', 'SRG.MI', 'RMV.L', 'IPN.PA', 'HWDN.L', 'COL.MC', 'HMb.ST', 'VOWG_p.DE', 'EDEN.PA', 'SASY.PA', 'ROG.S', 'AMBUb.CO', 'ACKB.BR', 'SYDB.CO', 'JD.L', 'FHZN.S', 'ENT.L', 'BZU.MI', 'ITX.MC', 'PZU.WA', 'SDZ.S', 'BKT.MC', 'EVTG.DE', 'VID.MC', 'SBRY.L', 'AD.AS', 'AKE.PA', 'RTO.L', 'CLNX.MC', 'KCRA.HE', 'UMG.AS', 'CHRH.CO^A24', 'G24n.DE', 'NESTE.HE', 'CBKG.DE', 'CARR.PA', 'SIKA.S', 'SPL1.WA', 'PNN.L', 'ITPG.MI', 'SEBF.PA', 'SAFE.L', 'TKWY.AS', 'BCVN.S', 'TEMN.S', 'INDV.L', 'SKG.I', '1COV.DE', 'VIE.PA', 'FNTGn.DE', 'PSPN.S', 'ACCP.PA', 'A2.MI', 'ENR1n.DE', 'STDM.PA', 'KPN.AS', 'ROCKb.CO', 'WPP.L', 'ADSGn.DE', 'LVMH.PA', 'AENA.MC', 'HUH1V.HE', 'MAERSKb.CO', 'ASRNL.AS', 'KBC.BR', 'NTGY.MC', 'SCTS.L', 'SPX.L', 'ABI.BR', 'DWL.L', 'DRX.L', 'WTB.L', 'AM.PA', 'DHER.DE', 'CDR.WA', 'BILL.ST', 'KNIN.S', 'FABG.ST', 'GRG.L', 'SGE.L', 'SHLG.DE', 'CPRI.MI', 'BEZG.L', 'PHG.AS', 'AZMT.MI', 'TRN.MI', 'HRMS.PA', 'III.L', 'MNDI.L', 'SGOB.PA', 'SCAb.ST', 'SMIN.L', 'INCH.L', 'BKWB.S', 'UTG.L', 'TCFP.PA', 'YAR.OL', 'SMWH.L', 'SGEF.PA', 'ARDS.AS', 'SIGNC.S', 'REP.MC', 'STMN.S', 'UBSG.S', 'MOWI.OL', 'FOUG.PA', 'TOM.OL', 'SKFb.ST', 'KBX.DE', 'GETIb.ST', 'FLTRF.L', 'STLAM.MI', 'DSV.CO', 'ESLX.PA', 'EXPN.L', 'TTEF.PA', 'SOBIV.ST', 'MTXGn.DE', 'INDT.ST', 'DAST.PA', 'HELN.S', 'ICGIN.L', 'QQ.L', 'EMG.L', 'RR.L', 'GLEN.L', 'SCHN.PA', 'SKAb.ST', 'SECUb.ST', 'HIK.L', 'ECVG.DE', 'DLGD.L', 'LOTB.BR', 'REDE.MC', 'SN.L', 'VACN.S', 'LEGD.PA', 'HNKG_p.DE', 'BOSSn.DE', 'GRLS.MC', 'ERST.VI', 'AVOL.S', 'LGEN.L', 'ENAG.MC', 'ASMI.AS', 'SXS.L', 'INWT.MI', 'BBOXT.L', 'STERV.HE', 'ASML.AS', 'TATE.L', 'G1AG.DE', 'P911_p.DE', 'RBREW.CO', 'LXSG.DE', 'ARGX.BR', 'SRENH.S', 'EONGn.DE', 'SHBa.ST', 'ELI.BR', 'ITRK.L', 'ALLFG.AS', 'SEBa.ST', 'NEKG.DE', 'UCB.BR', 'GALE.S', 'BCU.MI', 'MKS.L', 'EQNR.OL', 'BNRGn.DE', 'CRDA.L', 'PRU.L', 'URW.PA', 'LTEN.PA', 'IMCD.AS', 'ENX.PA', 'VOLCARb.ST', 'EXHO.PA', 'STMMI.MI', 'TKAG.DE', 'FDJ.PA', 'GASI.MI', 'TRYG.CO', 'JMT.LS', 'RBIV.VI', 'SRP.L', 'VLOF.PA', 'ISS.CO', 'NOKIA.HE', 'EVDG.DE', 'VOD.L', 'ENEI.MI', 'NIBEb.ST', 'JMAT.L', 'VOES.VI', 'RENA.PA', 'DHLn.DE', 'GFTU_u.L', 'TIETO.HE', 'MNG.L', 'PSHG_p.DE', 'PSON.L', 'DIOR.PA', 'CCC.L', 'ITV.L', 'CARLb.CO', 'ENGIE.PA', 'BEIJb.ST', 'NSISb.CO', 'EMSN.S', 'AOO.BR', 'GIVN.S', 'LAGRb.ST', 'KOG.OL', 'PUMG.DE', 'HOLMb.ST', 'SMDS.L', 'BAER.S', 'HBR.L', 'KGX.DE', 'AVANZ.ST', 'GMAB.CO', 'SAF.PA', 'SAPG.DE', 'SLHN.S', 'BEIG.DE', 'BAMI.MI', 'DPLM.L', 'SESFd.PA', 'AIXGn.DE', 'PKN.WA', 'EPIRa.ST', 'GJFG.OL', 'GN.CO', 'CPG.L', 'HOLN.S', 'BUCN.S', 'BAKKA.OL', 'SHEL.AS', 'AZE.BR', 'SOIT.PA', 'NN.AS', 'IBE.MC', 'SSE.L', 'SYENS.BR', 'LATOb.ST', 'AGES.BR', 'ALEP.WA', 'AALB.AS', 'DBKGn.DE', 'KGH.WA', 'NOVN.S', 'BARC.L', 'HEXAb.ST', 'PRX.AS', 'NOVOb.CO', 'BALDb.ST', 'KGF.L', 'EVKn.DE', 'BIOX.PA', 'VNAn.DE', 'ANDR.VI', 'EMBRACb.ST', 'TOP.CO', 'MBGn.DE', 'NG.L', 'SWECb.ST', 'ENI.MI']\n",
      "['2023-01-31', '2023-02-28', '2023-03-31', '2023-04-28', '2023-05-31', '2023-06-30', '2023-07-31', '2023-08-31', '2023-09-29', '2023-10-31', '2023-11-30', '2023-12-29']\n"
     ]
    },
    {
     "name": "stderr",
     "output_type": "stream",
     "text": [
      "C:\\Users\\Shadow\\AppData\\Local\\Temp\\ipykernel_14828\\434280917.py:23: FutureWarning: 'BM' is deprecated and will be removed in a future version, please use 'BME' instead.\n",
      "  business_days = pd.date_range(start=start_date, end=end_date, freq=\"BM\")\n",
      "C:\\Users\\Shadow\\AppData\\Local\\Packages\\PythonSoftwareFoundation.Python.3.12_qbz5n2kfra8p0\\LocalCache\\local-packages\\Python312\\site-packages\\eikon\\data_grid.py:255: FutureWarning: errors='ignore' is deprecated and will raise in a future version. Use to_numeric without passing `errors` and catch exceptions explicitly instead\n",
      "  df = df.apply(pd.to_numeric, errors='ignore')\n"
     ]
    },
    {
     "name": "stdout",
     "output_type": "stream",
     "text": [
      "(       Instrument  Price Close  Daily Total Return    Volume  \\\n",
      "0         BOUY.PA        28.51            1.676177  0.514321   \n",
      "1         BOUY.PA         28.6            0.315679  0.777377   \n",
      "2         BOUY.PA        29.27            2.342657  1.497439   \n",
      "3         BOUY.PA         29.5            0.785787  1.084451   \n",
      "4         BOUY.PA        29.86            1.220339  1.148065   \n",
      "...           ...          ...                 ...       ...   \n",
      "151636     ENI.MI         15.2           -0.026309  7.457337   \n",
      "151637     ENI.MI       15.288            0.578947  7.179649   \n",
      "151638     ENI.MI       15.436             0.96808  7.843914   \n",
      "151639     ENI.MI       15.358           -0.505312  6.753776   \n",
      "151640     ENI.MI       15.348           -0.065113  6.564286   \n",
      "\n",
      "        Company Market Cap       Turnover  \n",
      "0              10676.57519    14643692.14  \n",
      "1             10710.278865    22234434.27  \n",
      "2             10961.183999    43754159.54  \n",
      "3             11047.315612     31977816.2  \n",
      "4             11182.130311    34214954.78  \n",
      "...                    ...            ...  \n",
      "151636        51314.255974  113242217.632  \n",
      "151637        51611.338508  109848959.428  \n",
      "151638        52110.977316  120796658.636  \n",
      "151639        51847.654161  103960868.344  \n",
      "151640        51813.894782  101071698.724  \n",
      "\n",
      "[151641 rows x 6 columns], None)\n"
     ]
    }
   ],
   "source": [
    "import pandas as pd\n",
    "import eikon as ek\n",
    "import warnings\n",
    "import datetime\n",
    "\n",
    "ek.set_app_key('9aceb0f0b92f4b5cab82266c64eee1e83614934e')\n",
    "\n",
    "# Define the date range\n",
    "start_date = '2023-01-01'\n",
    "end_date = '2024-01-01'\n",
    "\n",
    "# Import the CSV file containing the stock RICs\n",
    "ric_df = pd.read_csv('C:\\\\Users\\\\Shadow\\\\OneDrive\\\\BA_Thesis\\\\BA_coding\\\\datasets\\\\eikon_data\\\\constituents_stoxx_europe_600.csv')  # Make sure to provide the correct path\n",
    "\n",
    "# Extract the RICs into a list\n",
    "ric_list = ric_df['Constituent RIC'].tolist()\n",
    "print(ric_list)\n",
    "\n",
    "# Initialize an empty DataFrame to aggregate the results\n",
    "aggregated_df = pd.DataFrame()\n",
    "\n",
    "# Generate the last business day of each month within the date range\n",
    "business_days = pd.date_range(start=start_date, end=end_date, freq=\"BM\")\n",
    "date_list = [day.strftime('%Y-%m-%d') for day in business_days]  # Formatting dates as strings if needed\n",
    "print(date_list)\n",
    "\n",
    "df = ek.get_data(instruments = ric_list,\n",
    "                    fields = [\"TR.PriceClose(Scale=0)\", \"TR.TotalReturn1D\", \"TR.Volume\", \"TR.CompanyMarketCap\", \"TR.TURNOVER\"],\n",
    "                    parameters = {\"SDate\": \"2023-01-01\", \"EDate\": \"2024-01-01\", \"Frq\":\"D\", \"Curn\":\"EUR\", \"Scale\":6})\n",
    "#\"TR.BVPSMean(Period=FY1)\"\n",
    "print(df)"
   ]
  }
 ],
 "metadata": {
  "kernelspec": {
   "display_name": "Python 3",
   "language": "python",
   "name": "python3"
  },
  "language_info": {
   "codemirror_mode": {
    "name": "ipython",
    "version": 3
   },
   "file_extension": ".py",
   "mimetype": "text/x-python",
   "name": "python",
   "nbconvert_exporter": "python",
   "pygments_lexer": "ipython3",
   "version": "3.12.3"
  }
 },
 "nbformat": 4,
 "nbformat_minor": 2
}
