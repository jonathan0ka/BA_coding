{
 "cells": [
  {
   "cell_type": "code",
   "execution_count": null,
   "metadata": {},
   "outputs": [],
   "source": [
    "import pandas as pd\n",
    "import eikon as ek\n",
    "import warnings\n",
    "import datetime\n",
    "\n",
    "ek.set_app_key('4b3a2041ad65478b91d46404ba35a4f4d2413f6c')\n",
    "\n",
    "# Define the date range\n",
    "start_date = '2023-01-01'\n",
    "end_date = '2024-01-01'\n",
    "\n",
    "# Import the CSV file containing the stock RICs\n",
    "ric_df = pd.read_csv('C:\\\\Users\\\\Shadow\\\\OneDrive\\\\BA_Thesis\\\\BA_coding\\\\datasets\\\\eikon_data\\\\constituents_stoxx_europe_600.csv')  # Make sure to provide the correct path\n",
    "\n",
    "# Extract the RICs into a list\n",
    "#ric_list = ric_df['Constituent RIC'].tolist()\n",
    "ric_list = [\"NESN.S\", \"ASML.AS\"]\n",
    "print(ric_list)\n",
    "\n",
    "# Initialize an empty DataFrame to aggregate the results\n",
    "aggregated_df = pd.DataFrame()\n",
    "\n",
    "# Generate the last business day of each month within the date range\n",
    "business_days = pd.date_range(start=start_date, end=end_date, freq=\"D\")\n",
    "date_list = business_days.tolist()\n",
    "print(date_list)\n",
    "\n",
    "df, e = ek.get_data(instruments = ric_list,\n",
    "                    fields = [\"TR.PriceClose\", \"TR.TotalReturn1D\", \"TR.Volume\", \"TR.CompanyMarketCap\", \"TR.TURNOVER\", \"TR.BVPSMean(Period=FY1)\"],\n",
    "                    parameters = {\"SDate\": date_list, \"Curn\":\"EUR\", \"Scale\":6})\n",
    "\n",
    "print(df)"
   ]
  }
 ],
 "metadata": {
  "language_info": {
   "name": "python"
  }
 },
 "nbformat": 4,
 "nbformat_minor": 2
}
