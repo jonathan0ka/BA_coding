{
 "cells": [
  {
   "cell_type": "code",
   "execution_count": 5,
   "metadata": {},
   "outputs": [
    {
     "name": "stderr",
     "output_type": "stream",
     "text": [
      "C:\\Users\\Shadow\\AppData\\Local\\Temp\\ipykernel_14828\\2928841294.py:24: FutureWarning: 'BM' is deprecated and will be removed in a future version, please use 'BME' instead.\n",
      "  business_days = pd.date_range(start=start_date, end=end_date, freq=\"BM\")\n",
      "2024-04-14 17:46:35,728 P[14828] [MainThread 848] HTTP request failed: Object of type Timestamp is not JSON serializable\n"
     ]
    },
    {
     "name": "stdout",
     "output_type": "stream",
     "text": [
      "['NESN.S', 'ASML.AS']\n",
      "[Timestamp('2023-01-31 00:00:00'), Timestamp('2023-02-28 00:00:00'), Timestamp('2023-03-31 00:00:00'), Timestamp('2023-04-28 00:00:00'), Timestamp('2023-05-31 00:00:00'), Timestamp('2023-06-30 00:00:00'), Timestamp('2023-07-31 00:00:00'), Timestamp('2023-08-31 00:00:00'), Timestamp('2023-09-29 00:00:00'), Timestamp('2023-10-31 00:00:00'), Timestamp('2023-11-30 00:00:00'), Timestamp('2023-12-29 00:00:00')]\n"
     ]
    },
    {
     "ename": "AttributeError",
     "evalue": "'NoneType' object has no attribute 'get'",
     "output_type": "error",
     "traceback": [
      "\u001b[1;31m---------------------------------------------------------------------------\u001b[0m",
      "\u001b[1;31mAttributeError\u001b[0m                            Traceback (most recent call last)",
      "Cell \u001b[1;32mIn[5], line 28\u001b[0m\n\u001b[0;32m     25\u001b[0m date_list \u001b[38;5;241m=\u001b[39m business_days\u001b[38;5;241m.\u001b[39mtolist()\n\u001b[0;32m     26\u001b[0m \u001b[38;5;28mprint\u001b[39m(date_list)\n\u001b[1;32m---> 28\u001b[0m df \u001b[38;5;241m=\u001b[39m \u001b[43mek\u001b[49m\u001b[38;5;241;43m.\u001b[39;49m\u001b[43mget_data\u001b[49m\u001b[43m(\u001b[49m\u001b[43minstruments\u001b[49m\u001b[43m \u001b[49m\u001b[38;5;241;43m=\u001b[39;49m\u001b[43m \u001b[49m\u001b[43mric_list\u001b[49m\u001b[43m,\u001b[49m\n\u001b[0;32m     29\u001b[0m \u001b[43m                    \u001b[49m\u001b[43mfields\u001b[49m\u001b[43m \u001b[49m\u001b[38;5;241;43m=\u001b[39;49m\u001b[43m \u001b[49m\u001b[43m[\u001b[49m\u001b[38;5;124;43m\"\u001b[39;49m\u001b[38;5;124;43mTR.PriceClose\u001b[39;49m\u001b[38;5;124;43m\"\u001b[39;49m\u001b[43m,\u001b[49m\u001b[43m \u001b[49m\u001b[38;5;124;43m\"\u001b[39;49m\u001b[38;5;124;43mTR.TotalReturn1D\u001b[39;49m\u001b[38;5;124;43m\"\u001b[39;49m\u001b[43m,\u001b[49m\u001b[43m \u001b[49m\u001b[38;5;124;43m\"\u001b[39;49m\u001b[38;5;124;43mTR.Volume\u001b[39;49m\u001b[38;5;124;43m\"\u001b[39;49m\u001b[43m,\u001b[49m\u001b[43m \u001b[49m\u001b[38;5;124;43m\"\u001b[39;49m\u001b[38;5;124;43mTR.CompanyMarketCap\u001b[39;49m\u001b[38;5;124;43m\"\u001b[39;49m\u001b[43m,\u001b[49m\u001b[43m \u001b[49m\u001b[38;5;124;43m\"\u001b[39;49m\u001b[38;5;124;43mTR.TURNOVER\u001b[39;49m\u001b[38;5;124;43m\"\u001b[39;49m\u001b[43m]\u001b[49m\u001b[43m,\u001b[49m\n\u001b[0;32m     30\u001b[0m \u001b[43m                    \u001b[49m\u001b[43mparameters\u001b[49m\u001b[43m \u001b[49m\u001b[38;5;241;43m=\u001b[39;49m\u001b[43m \u001b[49m\u001b[43m{\u001b[49m\u001b[38;5;124;43m\"\u001b[39;49m\u001b[38;5;124;43mSDate\u001b[39;49m\u001b[38;5;124;43m\"\u001b[39;49m\u001b[43m:\u001b[49m\u001b[43m \u001b[49m\u001b[43mdate_list\u001b[49m\u001b[43m,\u001b[49m\u001b[43m \u001b[49m\u001b[38;5;124;43m\"\u001b[39;49m\u001b[38;5;124;43mCurn\u001b[39;49m\u001b[38;5;124;43m\"\u001b[39;49m\u001b[43m:\u001b[49m\u001b[38;5;124;43m\"\u001b[39;49m\u001b[38;5;124;43mEUR\u001b[39;49m\u001b[38;5;124;43m\"\u001b[39;49m\u001b[43m,\u001b[49m\u001b[43m \u001b[49m\u001b[38;5;124;43m\"\u001b[39;49m\u001b[38;5;124;43mScale\u001b[39;49m\u001b[38;5;124;43m\"\u001b[39;49m\u001b[43m:\u001b[49m\u001b[38;5;241;43m6\u001b[39;49m\u001b[43m}\u001b[49m\u001b[43m)\u001b[49m\n\u001b[0;32m     31\u001b[0m \u001b[38;5;66;03m#\"TR.BVPSMean(Period=FY1)\"\u001b[39;00m\n\u001b[0;32m     32\u001b[0m \u001b[38;5;28mprint\u001b[39m(df)\n",
      "File \u001b[1;32m~\\AppData\\Local\\Packages\\PythonSoftwareFoundation.Python.3.12_qbz5n2kfra8p0\\LocalCache\\local-packages\\Python312\\site-packages\\eikon\\data_grid.py:192\u001b[0m, in \u001b[0;36mget_data\u001b[1;34m(instruments, fields, parameters, field_name, raw_output, debug)\u001b[0m\n\u001b[0;32m    188\u001b[0m     payload \u001b[38;5;241m=\u001b[39m {\u001b[38;5;124m'\u001b[39m\u001b[38;5;124mrequests\u001b[39m\u001b[38;5;124m'\u001b[39m: [payload]}\n\u001b[0;32m    190\u001b[0m result \u001b[38;5;241m=\u001b[39m eikon\u001b[38;5;241m.\u001b[39mjson_requests\u001b[38;5;241m.\u001b[39msend_json_request(_endpoint, payload, debug\u001b[38;5;241m=\u001b[39mdebug)\n\u001b[1;32m--> 192\u001b[0m \u001b[38;5;28;01mif\u001b[39;00m \u001b[43mresult\u001b[49m\u001b[38;5;241;43m.\u001b[39;49m\u001b[43mget\u001b[49m(\u001b[38;5;124m'\u001b[39m\u001b[38;5;124mresponses\u001b[39m\u001b[38;5;124m'\u001b[39m):\n\u001b[0;32m    193\u001b[0m     result \u001b[38;5;241m=\u001b[39m result[\u001b[38;5;124m'\u001b[39m\u001b[38;5;124mresponses\u001b[39m\u001b[38;5;124m'\u001b[39m][\u001b[38;5;241m0\u001b[39m]\n\u001b[0;32m    195\u001b[0m \u001b[38;5;28;01mif\u001b[39;00m raw_output:\n",
      "\u001b[1;31mAttributeError\u001b[0m: 'NoneType' object has no attribute 'get'"
     ]
    }
   ],
   "source": [
    "import pandas as pd\n",
    "import eikon as ek\n",
    "import warnings\n",
    "import datetime\n",
    "\n",
    "ek.set_app_key('9aceb0f0b92f4b5cab82266c64eee1e83614934e')\n",
    "\n",
    "# Define the date range\n",
    "start_date = '2023-01-01'\n",
    "end_date = '2024-01-01'\n",
    "\n",
    "# Import the CSV file containing the stock RICs\n",
    "#ric_df = pd.read_csv('C:\\\\Users\\\\Shadow\\\\OneDrive\\\\BA_Thesis\\\\BA_coding\\\\datasets\\\\eikon_data\\\\constituents_stoxx_europe_600.csv')  # Make sure to provide the correct path\n",
    "\n",
    "# Extract the RICs into a list\n",
    "#ric_list = ric_df['Constituent RIC'].tolist()\n",
    "ric_list = [\"NESN.S\", \"ASML.AS\"]\n",
    "print(ric_list)\n",
    "\n",
    "# Initialize an empty DataFrame to aggregate the results\n",
    "aggregated_df = pd.DataFrame()\n",
    "\n",
    "# Generate the last business day of each month within the date range\n",
    "business_days = pd.date_range(start=start_date, end=end_date, freq=\"BM\")\n",
    "date_list = [day.strftime('%Y-%m-%d') for day in business_days]  # Formatting dates as strings if needed\n",
    "print(date_list)\n",
    "\n",
    "df = ek.get_data(instruments = ric_list,\n",
    "                    fields = [\"TR.PriceClose\", \"TR.TotalReturn1D\", \"TR.Volume\", \"TR.CompanyMarketCap\", \"TR.TURNOVER\"],\n",
    "                    parameters = {\"SDate\": date_list, \"Curn\":\"EUR\", \"Scale\":6})\n",
    "#\"TR.BVPSMean(Period=FY1)\"\n",
    "print(df)"
   ]
  }
 ],
 "metadata": {
  "kernelspec": {
   "display_name": "Python 3",
   "language": "python",
   "name": "python3"
  },
  "language_info": {
   "codemirror_mode": {
    "name": "ipython",
    "version": 3
   },
   "file_extension": ".py",
   "mimetype": "text/x-python",
   "name": "python",
   "nbconvert_exporter": "python",
   "pygments_lexer": "ipython3",
   "version": "3.12.3"
  }
 },
 "nbformat": 4,
 "nbformat_minor": 2
}
