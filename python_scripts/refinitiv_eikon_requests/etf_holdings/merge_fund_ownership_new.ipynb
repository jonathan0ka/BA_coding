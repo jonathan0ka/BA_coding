{
 "cells": [
  {
   "cell_type": "markdown",
   "metadata": {},
   "source": [
    "## Merge all csv files"
   ]
  },
  {
   "cell_type": "code",
   "execution_count": 5,
   "metadata": {},
   "outputs": [
    {
     "name": "stdout",
     "output_type": "stream",
     "text": [
      "/Users/jonathanzeh/Library/CloudStorage/OneDrive-Personal/BA_Thesis/BA_coding/datasets/eikon_data/fund_holdings_data/raw_data/etf_holdings_600_stocks_2010_01_2013_12.csv\n",
      "/Users/jonathanzeh/Library/CloudStorage/OneDrive-Personal/BA_Thesis/BA_coding/datasets/eikon_data/fund_holdings_data/raw_data/etf_holdings_600_stocks_2014_01_2015_11.csv\n",
      "/Users/jonathanzeh/Library/CloudStorage/OneDrive-Personal/BA_Thesis/BA_coding/datasets/eikon_data/fund_holdings_data/raw_data/test.csv\n",
      "/Users/jonathanzeh/Library/CloudStorage/OneDrive-Personal/BA_Thesis/BA_coding/datasets/eikon_data/fund_holdings_data/raw_data/etf_holdings_600_stocks_2020_01_2020_12.csv\n",
      "/Users/jonathanzeh/Library/CloudStorage/OneDrive-Personal/BA_Thesis/BA_coding/datasets/eikon_data/fund_holdings_data/raw_data/etf_holdings_600_stocks_2021_01_2022_12.csv\n",
      "/Users/jonathanzeh/Library/CloudStorage/OneDrive-Personal/BA_Thesis/BA_coding/datasets/eikon_data/fund_holdings_data/raw_data/etf_holdings_600_stocks_2019_01_2019_12.csv\n",
      "/Users/jonathanzeh/Library/CloudStorage/OneDrive-Personal/BA_Thesis/BA_coding/datasets/eikon_data/fund_holdings_data/raw_data/etf_holdings_600_stocks_2023_01_2023_12.csv\n",
      "/Users/jonathanzeh/Library/CloudStorage/OneDrive-Personal/BA_Thesis/BA_coding/datasets/eikon_data/fund_holdings_data/raw_data/etf_holdings_600_stocks_2016_12_2018_12.csv\n",
      "/Users/jonathanzeh/Library/CloudStorage/OneDrive-Personal/BA_Thesis/BA_coding/datasets/eikon_data/fund_holdings_data/raw_data/etf_holdings_600_stocks_2014_07_2016_11.csv\n",
      "All CSV files have been merged into /Users/jonathanzeh/Library/CloudStorage/OneDrive-Personal/BA_Thesis/BA_coding/datasets/eikon_data/fund_holdings_data/merged_data.csv\n"
     ]
    }
   ],
   "source": [
    "import pandas as pd\n",
    "import os\n",
    "\n",
    "def merge_csv_files(directory_path, output_file):\n",
    "    # List to hold data from each CSV file\n",
    "    dataframes = []\n",
    "\n",
    "    # Loop through all files in the directory\n",
    "    for filename in os.listdir(directory_path):\n",
    "        if filename.endswith('.csv'):\n",
    "            # Construct full file path\n",
    "            file_path = os.path.join(directory_path, filename)\n",
    "            # Read the CSV file and append to the list\n",
    "            print(file_path)\n",
    "            df = pd.read_csv(file_path)\n",
    "            dataframes.append(df)\n",
    "\n",
    "    # Concatenate all dataframes in the list\n",
    "    merged_df = pd.concat(dataframes, ignore_index=True)\n",
    "\n",
    "    # Write the merged dataframe to a new CSV file\n",
    "    merged_df.to_csv(output_file, index=False)\n",
    "    print(f\"All CSV files have been merged into {output_file}\")\n",
    "\n",
    "# Usage\n",
    "raw_data_path = '/Users/jonathanzeh/Library/CloudStorage/OneDrive-Personal/BA_Thesis/BA_coding/datasets/eikon_data/fund_holdings_data/raw_data'\n",
    "merged_data_path = '/Users/jonathanzeh/Library/CloudStorage/OneDrive-Personal/BA_Thesis/BA_coding/datasets/eikon_data/fund_holdings_data/merged_data.csv'\n",
    "merge_csv_files(raw_data_path, merged_data_path)"
   ]
  },
  {
   "cell_type": "markdown",
   "metadata": {},
   "source": [
    "# Separate ETFs and traditional Funds"
   ]
  },
  {
   "cell_type": "markdown",
   "metadata": {},
   "source": [
    "## filter_function"
   ]
  },
  {
   "cell_type": "code",
   "execution_count": 2,
   "metadata": {},
   "outputs": [],
   "source": [
    "import dask.dataframe as dd\n",
    "import pandas as pd\n",
    "\n",
    "def filter_function(input_file, output_file, type = \"etf\"):\n",
    "    ddf = dd.read_csv(input_file)\n",
    "\n",
    "    # Drop rows with NaN in 'fund_type' or 'fund_name'\n",
    "    ddf = ddf.dropna(subset=[\"stock_RIC\", 'fund_type', 'fund_name', \"percent_of_traded_shares\"])\n",
    "    \n",
    "    if type == \"etf\":\n",
    "        filtered_ddf = ddf[(ddf['fund_type'] == 'Exchange-Traded Fund')] #|\n",
    "                        #ddf['fund_name'].str.contains('Vanguard')]\n",
    "    elif type == \"fund\":\n",
    "        filtered_ddf = ddf[(ddf['fund_type'] != 'Exchange-Traded Fund')] #|\n",
    "                        # ddf['fund_name'].str.contains('Vanguard') == False]\n",
    "    \n",
    "    filtered_ddf = filtered_ddf.persist()\n",
    "\n",
    "    filtered_df = filtered_ddf.compute()\n",
    "\n",
    "    filtered_df['date'] = pd.to_datetime(filtered_df['date'])\n",
    "\n",
    "    # Subtract one month end to change the date to the last day of the previous month\n",
    "    filtered_df['date'] = filtered_df['date'] - pd.offsets.MonthEnd(1)\n",
    "\n",
    "    # Identify and drop unnamed columns\n",
    "    df_clean = filtered_df.loc[:, ~filtered_df.columns.str.contains('Unnamed')]\n",
    "\n",
    "    df_clean = df_clean.drop_duplicates(subset=['stock_RIC', 'fund_name', 'date', 'percent_of_traded_shares'], keep='first')\n",
    "\n",
    "    # Compute and write the result to a new CSV file\n",
    "    df_clean.to_csv(output_file)"
   ]
  },
  {
   "cell_type": "markdown",
   "metadata": {},
   "source": [
    "## ETFs"
   ]
  },
  {
   "cell_type": "code",
   "execution_count": 19,
   "metadata": {},
   "outputs": [],
   "source": [
    "import dask.dataframe as dd\n",
    "import pandas as pd\n",
    "    \n",
    "########## ETFs\n",
    "input_file_test = \"/Users/jonathanzeh/Library/CloudStorage/OneDrive-Personal/BA_Thesis/BA_coding/datasets/eikon_data/fund_holdings_data/raw_data/etf_holdings_600_stocks_2014_01_2015_11.csv\"\n",
    "input_file = '/Users/jonathanzeh/Library/CloudStorage/OneDrive-Personal/BA_Thesis/BA_coding/datasets/eikon_data/fund_holdings_data/merged_data.csv'\n",
    "output_file = '/Users/jonathanzeh/Library/CloudStorage/OneDrive-Personal/BA_Thesis/BA_coding/datasets/eikon_data/fund_holdings_data/etf_data.csv'\n",
    "filter_function(input_file, output_file, type = \"etf\")"
   ]
  },
  {
   "cell_type": "markdown",
   "metadata": {},
   "source": [
    "## Traditional Funds"
   ]
  },
  {
   "cell_type": "code",
   "execution_count": 3,
   "metadata": {},
   "outputs": [],
   "source": [
    "import dask.dataframe as dd\n",
    "import pandas as pd\n",
    "\n",
    "########## traditional funds\n",
    "input_file = '/Users/jonathanzeh/Library/CloudStorage/OneDrive-Personal/BA_Thesis/BA_coding/datasets/eikon_data/fund_holdings_data/merged_data.csv'\n",
    "output_file = '/Users/jonathanzeh/Library/CloudStorage/OneDrive-Personal/BA_Thesis/BA_coding/datasets/eikon_data/fund_holdings_data/fund_data.csv'\n",
    "filter_function(input_file, output_file, type = \"fund\")"
   ]
  },
  {
   "cell_type": "markdown",
   "metadata": {},
   "source": [
    "# Aggregation of Ownership"
   ]
  },
  {
   "cell_type": "markdown",
   "metadata": {},
   "source": [
    "## aggregation_function"
   ]
  },
  {
   "cell_type": "code",
   "execution_count": 23,
   "metadata": {},
   "outputs": [],
   "source": [
    "import pandas as pd\n",
    "def aggregation_function(input_file, output_file, type = \"etf\"):\n",
    "    df = pd.read_csv(input_file, index_col=False)\n",
    "    \n",
    "    grouped_df = df.groupby(['stock_RIC', 'date'])[['stock_value_held', \"percent_of_traded_shares\"]].sum().reset_index()\n",
    "\n",
    "    if type == \"fund\":\n",
    "        grouped_df.rename(columns={'stock_value_held': 'FUND_stock_value_held'},  inplace=True)\n",
    "        grouped_df.rename(columns={'percent_of_traded_shares': 'FUND_percent_of_traded_shares'}, inplace=True)\n",
    "\n",
    "    grouped_df.to_csv(output_file, index=False)"
   ]
  },
  {
   "cell_type": "markdown",
   "metadata": {},
   "source": [
    "## ETF ownership"
   ]
  },
  {
   "cell_type": "code",
   "execution_count": 24,
   "metadata": {},
   "outputs": [],
   "source": [
    "input_file = '/Users/jonathanzeh/Library/CloudStorage/OneDrive-Personal/BA_Thesis/BA_coding/datasets/eikon_data/fund_holdings_data/etf_data.csv'\n",
    "output_file = '/Users/jonathanzeh/Library/CloudStorage/OneDrive-Personal/BA_Thesis/BA_coding/datasets/eikon_data/fund_holdings_data/etf_aggregated_data.csv'\n",
    "aggregation_function(input_file, output_file, type = \"etf\")"
   ]
  },
  {
   "cell_type": "markdown",
   "metadata": {},
   "source": [
    "## Fund ownership"
   ]
  },
  {
   "cell_type": "code",
   "execution_count": 25,
   "metadata": {},
   "outputs": [],
   "source": [
    "input_file = '/Users/jonathanzeh/Library/CloudStorage/OneDrive-Personal/BA_Thesis/BA_coding/datasets/eikon_data/fund_holdings_data/fund_data.csv'\n",
    "output_file = '/Users/jonathanzeh/Library/CloudStorage/OneDrive-Personal/BA_Thesis/BA_coding/datasets/eikon_data/fund_holdings_data/fund_aggregated_data.csv'\n",
    "aggregation_function(input_file, output_file, type = \"fund\")"
   ]
  },
  {
   "cell_type": "markdown",
   "metadata": {},
   "source": [
    "# Merge aggregated ETF and Fund ownership"
   ]
  },
  {
   "cell_type": "code",
   "execution_count": 27,
   "metadata": {},
   "outputs": [
    {
     "name": "stderr",
     "output_type": "stream",
     "text": [
      "/var/folders/m9/n85vv59j4lj5g5nndc07m8t40000gn/T/ipykernel_31888/2744262418.py:18: SettingWithCopyWarning: \n",
      "A value is trying to be set on a copy of a slice from a DataFrame\n",
      "\n",
      "See the caveats in the documentation: https://pandas.pydata.org/pandas-docs/stable/user_guide/indexing.html#returning-a-view-versus-a-copy\n",
      "  merged_df[column_added].fillna('NA', inplace=True)\n"
     ]
    },
    {
     "name": "stdout",
     "output_type": "stream",
     "text": [
      "Merged data has been saved to /Users/jonathanzeh/Library/CloudStorage/OneDrive-Personal/BA_Thesis/BA_coding/datasets/eikon_data/fund_holdings_data/formatted_final.csv\n"
     ]
    },
    {
     "name": "stderr",
     "output_type": "stream",
     "text": [
      "/var/folders/m9/n85vv59j4lj5g5nndc07m8t40000gn/T/ipykernel_31888/2744262418.py:18: SettingWithCopyWarning: \n",
      "A value is trying to be set on a copy of a slice from a DataFrame\n",
      "\n",
      "See the caveats in the documentation: https://pandas.pydata.org/pandas-docs/stable/user_guide/indexing.html#returning-a-view-versus-a-copy\n",
      "  merged_df[column_added].fillna('NA', inplace=True)\n"
     ]
    },
    {
     "name": "stdout",
     "output_type": "stream",
     "text": [
      "Merged data has been saved to /Users/jonathanzeh/Library/CloudStorage/OneDrive-Personal/BA_Thesis/BA_coding/datasets/eikon_data/fund_holdings_data/formatted_final.csv\n"
     ]
    },
    {
     "name": "stderr",
     "output_type": "stream",
     "text": [
      "/var/folders/m9/n85vv59j4lj5g5nndc07m8t40000gn/T/ipykernel_31888/2744262418.py:18: SettingWithCopyWarning: \n",
      "A value is trying to be set on a copy of a slice from a DataFrame\n",
      "\n",
      "See the caveats in the documentation: https://pandas.pydata.org/pandas-docs/stable/user_guide/indexing.html#returning-a-view-versus-a-copy\n",
      "  merged_df[column_added].fillna('NA', inplace=True)\n"
     ]
    },
    {
     "name": "stdout",
     "output_type": "stream",
     "text": [
      "Merged data has been saved to /Users/jonathanzeh/Library/CloudStorage/OneDrive-Personal/BA_Thesis/BA_coding/datasets/eikon_data/fund_holdings_data/formatted_final.csv\n"
     ]
    }
   ],
   "source": [
    "import pandas as pd\n",
    "\n",
    "def merge_csv_files(file1, file2, output_file, column_added):\n",
    "    df1 = pd.read_csv(file1)\n",
    "    df2 = pd.read_csv(file2)\n",
    "\n",
    "    key_columns = ['date', 'stock_RIC']\n",
    "\n",
    "    df1['date'] = pd.to_datetime(df1['date'])\n",
    "    df2['date'] = pd.to_datetime(df2['date'])\n",
    "\n",
    "    cols_to_keep = key_columns + column_added\n",
    "    df2 = df2[cols_to_keep]\n",
    "\n",
    "    merged_df = pd.merge(df1, df2, on=key_columns, how='left')\n",
    "\n",
    "    # Fill NA values in 'stock_value_held' with the desired placeholder if no match was found\n",
    "    merged_df[column_added].fillna('NA', inplace=True)\n",
    "\n",
    "    # Write the merged DataFrame to a new CSV file\n",
    "    merged_df.to_csv(output_file, index=False)\n",
    "    print(f\"Merged data has been saved to {output_file}\")\n",
    "\n",
    "\n",
    "formatted_index_member = '/Users/jonathanzeh/Library/CloudStorage/OneDrive-Personal/BA_Thesis/BA_coding/datasets/eikon_data/index_constituents_data/formated_constituents_stoxx_europe_600.csv'\n",
    "output_file = \"/Users/jonathanzeh/Library/CloudStorage/OneDrive-Personal/BA_Thesis/BA_coding/datasets/eikon_data/fund_holdings_data/formatted_final.csv\"\n",
    "\n",
    "file_etf_ownership = '/Users/jonathanzeh/Library/CloudStorage/OneDrive-Personal/BA_Thesis/BA_coding/datasets/eikon_data/fund_holdings_data/etf_aggregated_data.csv'\n",
    "file_fund_ownership = \"/Users/jonathanzeh/Library/CloudStorage/OneDrive-Personal/BA_Thesis/BA_coding/datasets/eikon_data/fund_holdings_data/fund_aggregated_data.csv\"\n",
    "m_stock_path = '/Users/jonathanzeh/Library/CloudStorage/OneDrive-Personal/BA_Thesis/BA_coding/datasets/eikon_data/stock_level_data/m_stock_level_data.csv'\n",
    "\n",
    "##### merge etf ownership with index memeber\n",
    "merge_csv_files(formatted_index_member, file_etf_ownership, output_file, ['stock_value_held', \"percent_of_traded_shares\"])\n",
    "\n",
    "##### merge fund ownership with the output file from the last function\n",
    "merge_csv_files(output_file, file_fund_ownership, output_file, [\"FUND_stock_value_held\", \"FUND_percent_of_traded_shares\"])\n",
    "\n",
    "#### add stock level data\n",
    "merge_csv_files(output_file, m_stock_path, output_file, ['market_cap'])"
   ]
  },
  {
   "cell_type": "markdown",
   "metadata": {},
   "source": [
    "## calculate ownership percentage based on market capitalization"
   ]
  },
  {
   "cell_type": "code",
   "execution_count": 28,
   "metadata": {},
   "outputs": [
    {
     "data": {
      "text/html": [
       "<div>\n",
       "<style scoped>\n",
       "    .dataframe tbody tr th:only-of-type {\n",
       "        vertical-align: middle;\n",
       "    }\n",
       "\n",
       "    .dataframe tbody tr th {\n",
       "        vertical-align: top;\n",
       "    }\n",
       "\n",
       "    .dataframe thead th {\n",
       "        text-align: right;\n",
       "    }\n",
       "</style>\n",
       "<table border=\"1\" class=\"dataframe\">\n",
       "  <thead>\n",
       "    <tr style=\"text-align: right;\">\n",
       "      <th></th>\n",
       "      <th>date</th>\n",
       "      <th>stock_RIC</th>\n",
       "      <th>index_member</th>\n",
       "      <th>stock_value_held</th>\n",
       "      <th>percent_of_traded_shares</th>\n",
       "      <th>FUND_stock_value_held</th>\n",
       "      <th>FUND_percent_of_traded_shares</th>\n",
       "      <th>market_cap</th>\n",
       "      <th>ETF_ownership</th>\n",
       "      <th>FUND_ownership</th>\n",
       "    </tr>\n",
       "  </thead>\n",
       "  <tbody>\n",
       "    <tr>\n",
       "      <th>0</th>\n",
       "      <td>2009-12-31</td>\n",
       "      <td>0MW4EUR.xbo^K15</td>\n",
       "      <td>0</td>\n",
       "      <td>14.731695</td>\n",
       "      <td>0.7147</td>\n",
       "      <td>9.666637</td>\n",
       "      <td>0.4652</td>\n",
       "      <td>NaN</td>\n",
       "      <td>NaN</td>\n",
       "      <td>NaN</td>\n",
       "    </tr>\n",
       "    <tr>\n",
       "      <th>1</th>\n",
       "      <td>2010-01-31</td>\n",
       "      <td>0MW4EUR.xbo^K15</td>\n",
       "      <td>0</td>\n",
       "      <td>11.226477</td>\n",
       "      <td>0.5347</td>\n",
       "      <td>9.598608</td>\n",
       "      <td>0.4610</td>\n",
       "      <td>NaN</td>\n",
       "      <td>NaN</td>\n",
       "      <td>NaN</td>\n",
       "    </tr>\n",
       "    <tr>\n",
       "      <th>2</th>\n",
       "      <td>2010-02-28</td>\n",
       "      <td>0MW4EUR.xbo^K15</td>\n",
       "      <td>0</td>\n",
       "      <td>9.887296</td>\n",
       "      <td>0.5045</td>\n",
       "      <td>8.259427</td>\n",
       "      <td>0.4308</td>\n",
       "      <td>NaN</td>\n",
       "      <td>NaN</td>\n",
       "      <td>NaN</td>\n",
       "    </tr>\n",
       "    <tr>\n",
       "      <th>3</th>\n",
       "      <td>2010-03-31</td>\n",
       "      <td>0MW4EUR.xbo^K15</td>\n",
       "      <td>0</td>\n",
       "      <td>11.585353</td>\n",
       "      <td>0.5287</td>\n",
       "      <td>9.845493</td>\n",
       "      <td>0.4528</td>\n",
       "      <td>NaN</td>\n",
       "      <td>NaN</td>\n",
       "      <td>NaN</td>\n",
       "    </tr>\n",
       "    <tr>\n",
       "      <th>4</th>\n",
       "      <td>2010-04-30</td>\n",
       "      <td>0MW4EUR.xbo^K15</td>\n",
       "      <td>0</td>\n",
       "      <td>15.047999</td>\n",
       "      <td>0.6899</td>\n",
       "      <td>9.688948</td>\n",
       "      <td>0.4562</td>\n",
       "      <td>NaN</td>\n",
       "      <td>NaN</td>\n",
       "      <td>NaN</td>\n",
       "    </tr>\n",
       "    <tr>\n",
       "      <th>...</th>\n",
       "      <td>...</td>\n",
       "      <td>...</td>\n",
       "      <td>...</td>\n",
       "      <td>...</td>\n",
       "      <td>...</td>\n",
       "      <td>...</td>\n",
       "      <td>...</td>\n",
       "      <td>...</td>\n",
       "      <td>...</td>\n",
       "      <td>...</td>\n",
       "    </tr>\n",
       "    <tr>\n",
       "      <th>196219</th>\n",
       "      <td>2023-07-31</td>\n",
       "      <td>ZURN.S</td>\n",
       "      <td>1</td>\n",
       "      <td>5870.052977</td>\n",
       "      <td>8.8860</td>\n",
       "      <td>3874.537377</td>\n",
       "      <td>5.8652</td>\n",
       "      <td>6.606391e+10</td>\n",
       "      <td>0.088854</td>\n",
       "      <td>0.058648</td>\n",
       "    </tr>\n",
       "    <tr>\n",
       "      <th>196220</th>\n",
       "      <td>2023-08-31</td>\n",
       "      <td>ZURN.S</td>\n",
       "      <td>1</td>\n",
       "      <td>5816.278767</td>\n",
       "      <td>9.1603</td>\n",
       "      <td>3834.866671</td>\n",
       "      <td>6.0371</td>\n",
       "      <td>6.344198e+10</td>\n",
       "      <td>0.091679</td>\n",
       "      <td>0.060447</td>\n",
       "    </tr>\n",
       "    <tr>\n",
       "      <th>196221</th>\n",
       "      <td>2023-09-30</td>\n",
       "      <td>ZURN.S</td>\n",
       "      <td>1</td>\n",
       "      <td>5789.045875</td>\n",
       "      <td>9.1040</td>\n",
       "      <td>3802.279416</td>\n",
       "      <td>5.9793</td>\n",
       "      <td>6.357877e+10</td>\n",
       "      <td>0.091053</td>\n",
       "      <td>0.059804</td>\n",
       "    </tr>\n",
       "    <tr>\n",
       "      <th>196222</th>\n",
       "      <td>2023-10-31</td>\n",
       "      <td>ZURN.S</td>\n",
       "      <td>1</td>\n",
       "      <td>6022.326667</td>\n",
       "      <td>9.2026</td>\n",
       "      <td>3973.467134</td>\n",
       "      <td>6.0717</td>\n",
       "      <td>6.545329e+10</td>\n",
       "      <td>0.092010</td>\n",
       "      <td>0.060707</td>\n",
       "    </tr>\n",
       "    <tr>\n",
       "      <th>196223</th>\n",
       "      <td>2023-11-30</td>\n",
       "      <td>ZURN.S</td>\n",
       "      <td>1</td>\n",
       "      <td>6366.086468</td>\n",
       "      <td>9.4669</td>\n",
       "      <td>4255.712221</td>\n",
       "      <td>6.3290</td>\n",
       "      <td>6.727570e+10</td>\n",
       "      <td>0.094627</td>\n",
       "      <td>0.063258</td>\n",
       "    </tr>\n",
       "  </tbody>\n",
       "</table>\n",
       "<p>196224 rows × 10 columns</p>\n",
       "</div>"
      ],
      "text/plain": [
       "              date        stock_RIC  index_member  stock_value_held  \\\n",
       "0       2009-12-31  0MW4EUR.xbo^K15             0         14.731695   \n",
       "1       2010-01-31  0MW4EUR.xbo^K15             0         11.226477   \n",
       "2       2010-02-28  0MW4EUR.xbo^K15             0          9.887296   \n",
       "3       2010-03-31  0MW4EUR.xbo^K15             0         11.585353   \n",
       "4       2010-04-30  0MW4EUR.xbo^K15             0         15.047999   \n",
       "...            ...              ...           ...               ...   \n",
       "196219  2023-07-31           ZURN.S             1       5870.052977   \n",
       "196220  2023-08-31           ZURN.S             1       5816.278767   \n",
       "196221  2023-09-30           ZURN.S             1       5789.045875   \n",
       "196222  2023-10-31           ZURN.S             1       6022.326667   \n",
       "196223  2023-11-30           ZURN.S             1       6366.086468   \n",
       "\n",
       "        percent_of_traded_shares  FUND_stock_value_held  \\\n",
       "0                         0.7147               9.666637   \n",
       "1                         0.5347               9.598608   \n",
       "2                         0.5045               8.259427   \n",
       "3                         0.5287               9.845493   \n",
       "4                         0.6899               9.688948   \n",
       "...                          ...                    ...   \n",
       "196219                    8.8860            3874.537377   \n",
       "196220                    9.1603            3834.866671   \n",
       "196221                    9.1040            3802.279416   \n",
       "196222                    9.2026            3973.467134   \n",
       "196223                    9.4669            4255.712221   \n",
       "\n",
       "        FUND_percent_of_traded_shares    market_cap  ETF_ownership  \\\n",
       "0                              0.4652           NaN            NaN   \n",
       "1                              0.4610           NaN            NaN   \n",
       "2                              0.4308           NaN            NaN   \n",
       "3                              0.4528           NaN            NaN   \n",
       "4                              0.4562           NaN            NaN   \n",
       "...                               ...           ...            ...   \n",
       "196219                         5.8652  6.606391e+10       0.088854   \n",
       "196220                         6.0371  6.344198e+10       0.091679   \n",
       "196221                         5.9793  6.357877e+10       0.091053   \n",
       "196222                         6.0717  6.545329e+10       0.092010   \n",
       "196223                         6.3290  6.727570e+10       0.094627   \n",
       "\n",
       "        FUND_ownership  \n",
       "0                  NaN  \n",
       "1                  NaN  \n",
       "2                  NaN  \n",
       "3                  NaN  \n",
       "4                  NaN  \n",
       "...                ...  \n",
       "196219        0.058648  \n",
       "196220        0.060447  \n",
       "196221        0.059804  \n",
       "196222        0.060707  \n",
       "196223        0.063258  \n",
       "\n",
       "[196224 rows x 10 columns]"
      ]
     },
     "metadata": {},
     "output_type": "display_data"
    }
   ],
   "source": [
    "import pandas as pd\n",
    "\n",
    "def calculate_ownership_percentage(file_path):\n",
    "    df = pd.read_csv(output_file, index_col=False)\n",
    "    df['ETF_ownership'] = (df[\"stock_value_held\"] * 1_000_000)/ df[\"market_cap\"]\n",
    "    df['FUND_ownership'] = (df[\"FUND_stock_value_held\"] * 1_000_000)/ df[\"market_cap\"]\n",
    "    df.to_csv(output_file, index=False)\n",
    "    display(df)\n",
    "\n",
    "\n",
    "file_path = \"/Users/jonathanzeh/Library/CloudStorage/OneDrive-Personal/BA_Thesis/BA_coding/datasets/eikon_data/fund_holdings_data/formatted_final.csv\"\n",
    "calculate_ownership_percentage(file_path)\n",
    "\n",
    "\n"
   ]
  }
 ],
 "metadata": {
  "kernelspec": {
   "display_name": "Python 3",
   "language": "python",
   "name": "python3"
  },
  "language_info": {
   "codemirror_mode": {
    "name": "ipython",
    "version": 3
   },
   "file_extension": ".py",
   "mimetype": "text/x-python",
   "name": "python",
   "nbconvert_exporter": "python",
   "pygments_lexer": "ipython3",
   "version": "3.11.5"
  }
 },
 "nbformat": 4,
 "nbformat_minor": 2
}
