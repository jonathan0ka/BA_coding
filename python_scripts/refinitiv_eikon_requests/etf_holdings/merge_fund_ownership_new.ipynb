{
 "cells": [
  {
   "cell_type": "markdown",
   "metadata": {},
   "source": [
    "## Merge all csv files"
   ]
  },
  {
   "cell_type": "code",
   "execution_count": 5,
   "metadata": {},
   "outputs": [
    {
     "name": "stdout",
     "output_type": "stream",
     "text": [
      "/Users/jonathanzeh/Library/CloudStorage/OneDrive-Personal/BA_Thesis/BA_coding/datasets/eikon_data/fund_holdings_data/raw_data/etf_holdings_600_stocks_2010_01_2013_12.csv\n",
      "/Users/jonathanzeh/Library/CloudStorage/OneDrive-Personal/BA_Thesis/BA_coding/datasets/eikon_data/fund_holdings_data/raw_data/etf_holdings_600_stocks_2014_01_2015_11.csv\n",
      "/Users/jonathanzeh/Library/CloudStorage/OneDrive-Personal/BA_Thesis/BA_coding/datasets/eikon_data/fund_holdings_data/raw_data/test.csv\n",
      "/Users/jonathanzeh/Library/CloudStorage/OneDrive-Personal/BA_Thesis/BA_coding/datasets/eikon_data/fund_holdings_data/raw_data/etf_holdings_600_stocks_2020_01_2020_12.csv\n",
      "/Users/jonathanzeh/Library/CloudStorage/OneDrive-Personal/BA_Thesis/BA_coding/datasets/eikon_data/fund_holdings_data/raw_data/etf_holdings_600_stocks_2021_01_2022_12.csv\n",
      "/Users/jonathanzeh/Library/CloudStorage/OneDrive-Personal/BA_Thesis/BA_coding/datasets/eikon_data/fund_holdings_data/raw_data/etf_holdings_600_stocks_2019_01_2019_12.csv\n",
      "/Users/jonathanzeh/Library/CloudStorage/OneDrive-Personal/BA_Thesis/BA_coding/datasets/eikon_data/fund_holdings_data/raw_data/etf_holdings_600_stocks_2023_01_2023_12.csv\n",
      "/Users/jonathanzeh/Library/CloudStorage/OneDrive-Personal/BA_Thesis/BA_coding/datasets/eikon_data/fund_holdings_data/raw_data/etf_holdings_600_stocks_2016_12_2018_12.csv\n",
      "/Users/jonathanzeh/Library/CloudStorage/OneDrive-Personal/BA_Thesis/BA_coding/datasets/eikon_data/fund_holdings_data/raw_data/etf_holdings_600_stocks_2014_07_2016_11.csv\n",
      "All CSV files have been merged into /Users/jonathanzeh/Library/CloudStorage/OneDrive-Personal/BA_Thesis/BA_coding/datasets/eikon_data/fund_holdings_data/merged_data.csv\n"
     ]
    }
   ],
   "source": [
    "import pandas as pd\n",
    "import os\n",
    "\n",
    "def merge_csv_files(directory_path, output_file):\n",
    "    # List to hold data from each CSV file\n",
    "    dataframes = []\n",
    "\n",
    "    # Loop through all files in the directory\n",
    "    for filename in os.listdir(directory_path):\n",
    "        if filename.endswith('.csv'):\n",
    "            # Construct full file path\n",
    "            file_path = os.path.join(directory_path, filename)\n",
    "            # Read the CSV file and append to the list\n",
    "            print(file_path)\n",
    "            df = pd.read_csv(file_path)\n",
    "            dataframes.append(df)\n",
    "\n",
    "    # Concatenate all dataframes in the list\n",
    "    merged_df = pd.concat(dataframes, ignore_index=True)\n",
    "\n",
    "    # Write the merged dataframe to a new CSV file\n",
    "    merged_df.to_csv(output_file, index=False)\n",
    "    print(f\"All CSV files have been merged into {output_file}\")\n",
    "\n",
    "# Usage\n",
    "raw_data_path = '/Users/jonathanzeh/Library/CloudStorage/OneDrive-Personal/BA_Thesis/BA_coding/datasets/eikon_data/fund_holdings_data/raw_data'\n",
    "merged_data_path = '/Users/jonathanzeh/Library/CloudStorage/OneDrive-Personal/BA_Thesis/BA_coding/datasets/eikon_data/fund_holdings_data/merged_data.csv'\n",
    "merge_csv_files(raw_data_path, merged_data_path)"
   ]
  },
  {
   "cell_type": "markdown",
   "metadata": {},
   "source": [
    "# Separate ETFs and traditional Funds"
   ]
  },
  {
   "cell_type": "markdown",
   "metadata": {},
   "source": [
    "## filter_function"
   ]
  },
  {
   "cell_type": "code",
   "execution_count": 1,
   "metadata": {},
   "outputs": [],
   "source": [
    "import dask.dataframe as dd\n",
    "import pandas as pd\n",
    "\n",
    "def filter_function(input_file, output_file, type = \"etf\"):\n",
    "    ddf = dd.read_csv(input_file)\n",
    "\n",
    "    # Drop rows with NaN in 'fund_type' or 'fund_name'\n",
    "    ddf = ddf.dropna(subset=[\"stock_RIC\", 'fund_type', 'fund_name', \"percent_of_traded_shares\"])\n",
    "    \n",
    "    if type == \"etf\":\n",
    "        filtered_ddf = ddf[(ddf['fund_type'] == 'Exchange-Traded Fund')] #|\n",
    "                        #ddf['fund_name'].str.contains('Vanguard')]\n",
    "    elif type == \"mutual fund\":\n",
    "        filtered_ddf = ddf[(ddf['fund_type'] != 'Exchange-Traded Fund')] #|\n",
    "                        # ddf['fund_name'].str.contains('Vanguard') == False]\n",
    "    \n",
    "    # type = \"index fund\" or type = \"active fund\" needs mutual fund data as input_file\n",
    "    elif type == \"index fund\":\n",
    "        filtered_ddf = ddf[(ddf['fund_investment_type'] == 'Index')]\n",
    "    \n",
    "    elif type == \"active fund\":\n",
    "        filtered_ddf = ddf[(ddf['fund_investment_type'] != 'Index')]\n",
    "\n",
    "    \n",
    "    filtered_ddf = filtered_ddf.persist()\n",
    "    filtered_df = filtered_ddf.compute()\n",
    "\n",
    "    if type == \"etf\" or type == \"mutual fund\":\n",
    "        filtered_df['date'] = pd.to_datetime(filtered_df['date'])\n",
    "\n",
    "        # Subtract one month end to change the date to the last day of the previous month\n",
    "        filtered_df['date'] = filtered_df['date'] - pd.offsets.MonthEnd(1)\n",
    "\n",
    "    # Identify and drop unnamed columns\n",
    "    df_clean = filtered_df.loc[:, ~filtered_df.columns.str.contains('Unnamed')]\n",
    "    df_clean = df_clean.drop_duplicates(subset=['stock_RIC', 'fund_name', 'date', 'percent_of_traded_shares'], keep='first')\n",
    "\n",
    "    # Compute and write the result to a new CSV file\n",
    "    df_clean.to_csv(output_file)"
   ]
  },
  {
   "cell_type": "markdown",
   "metadata": {},
   "source": [
    "## ETFs"
   ]
  },
  {
   "cell_type": "code",
   "execution_count": 19,
   "metadata": {},
   "outputs": [],
   "source": [
    "import dask.dataframe as dd\n",
    "import pandas as pd\n",
    "    \n",
    "########## ETFs\n",
    "input_file_test = \"/Users/jonathanzeh/Library/CloudStorage/OneDrive-Personal/BA_Thesis/BA_coding/datasets/eikon_data/fund_holdings_data/raw_data/etf_holdings_600_stocks_2014_01_2015_11.csv\"\n",
    "input_file = '/Users/jonathanzeh/Library/CloudStorage/OneDrive-Personal/BA_Thesis/BA_coding/datasets/eikon_data/fund_holdings_data/merged_data.csv'\n",
    "output_file = '/Users/jonathanzeh/Library/CloudStorage/OneDrive-Personal/BA_Thesis/BA_coding/datasets/eikon_data/fund_holdings_data/etf_data.csv'\n",
    "filter_function(input_file, output_file, type = \"etf\")"
   ]
  },
  {
   "cell_type": "markdown",
   "metadata": {},
   "source": [
    "## Mutual Funds"
   ]
  },
  {
   "cell_type": "code",
   "execution_count": 3,
   "metadata": {},
   "outputs": [],
   "source": [
    "import dask.dataframe as dd\n",
    "import pandas as pd\n",
    "\n",
    "########## traditional funds\n",
    "input_file = '/Users/jonathanzeh/Library/CloudStorage/OneDrive-Personal/BA_Thesis/BA_coding/datasets/eikon_data/fund_holdings_data/merged_data.csv'\n",
    "output_file = '/Users/jonathanzeh/Library/CloudStorage/OneDrive-Personal/BA_Thesis/BA_coding/datasets/eikon_data/fund_holdings_data/fund_data.csv'\n",
    "filter_function(input_file, output_file, type = \"mutual fund\")"
   ]
  },
  {
   "cell_type": "markdown",
   "metadata": {},
   "source": [
    "## Index Funds"
   ]
  },
  {
   "cell_type": "code",
   "execution_count": 2,
   "metadata": {},
   "outputs": [],
   "source": [
    "import dask.dataframe as dd\n",
    "import pandas as pd\n",
    "\n",
    "########## traditional funds\n",
    "input_file = '/Users/jonathanzeh/Library/CloudStorage/OneDrive-Personal/BA_Thesis/BA_coding/datasets/eikon_data/fund_holdings_data/fund_data.csv'\n",
    "output_file = '/Users/jonathanzeh/Library/CloudStorage/OneDrive-Personal/BA_Thesis/BA_coding/datasets/eikon_data/fund_holdings_data/index_fund_data.csv'\n",
    "filter_function(input_file, output_file, type = \"index fund\")"
   ]
  },
  {
   "cell_type": "markdown",
   "metadata": {},
   "source": [
    "## Active Funds"
   ]
  },
  {
   "cell_type": "code",
   "execution_count": 3,
   "metadata": {},
   "outputs": [],
   "source": [
    "import dask.dataframe as dd\n",
    "import pandas as pd\n",
    "\n",
    "########## traditional funds\n",
    "input_file = '/Users/jonathanzeh/Library/CloudStorage/OneDrive-Personal/BA_Thesis/BA_coding/datasets/eikon_data/fund_holdings_data/fund_data.csv'\n",
    "output_file = '/Users/jonathanzeh/Library/CloudStorage/OneDrive-Personal/BA_Thesis/BA_coding/datasets/eikon_data/fund_holdings_data/active_fund_data.csv'\n",
    "filter_function(input_file, output_file, type = \"active fund\")"
   ]
  },
  {
   "cell_type": "markdown",
   "metadata": {},
   "source": [
    "# Aggregation of Ownership"
   ]
  },
  {
   "cell_type": "markdown",
   "metadata": {},
   "source": [
    "## aggregation_function"
   ]
  },
  {
   "cell_type": "code",
   "execution_count": 4,
   "metadata": {},
   "outputs": [],
   "source": [
    "import pandas as pd\n",
    "def aggregation_function(input_file, output_file, type = \"etf\"):\n",
    "    df = pd.read_csv(input_file, index_col=False)\n",
    "    \n",
    "    grouped_df = df.groupby(['stock_RIC', 'date'])[['stock_value_held', \"percent_of_traded_shares\"]].sum().reset_index()\n",
    "\n",
    "    if type == \"mutual fund\":\n",
    "        grouped_df.rename(columns={'stock_value_held': 'FUND_stock_value_held'},  inplace=True)\n",
    "        grouped_df.rename(columns={'percent_of_traded_shares': 'FUND_percent_of_traded_shares'}, inplace=True)\n",
    "    \n",
    "    elif type == \"index fund\":\n",
    "        grouped_df.rename(columns={'stock_value_held': 'INDEX_FUND_stock_value_held'},  inplace=True)\n",
    "        grouped_df.rename(columns={'percent_of_traded_shares': 'INDEX_FUND_percent_of_traded_shares'}, inplace=True)\n",
    "    \n",
    "    elif type == \"active fund\":\n",
    "        grouped_df.rename(columns={'stock_value_held': 'ACTIVE_FUND_stock_value_held'},  inplace=True)\n",
    "        grouped_df.rename(columns={'percent_of_traded_shares': 'ACTIVE_FUND_percent_of_traded_shares'}, inplace=True)\n",
    "\n",
    "    grouped_df.to_csv(output_file, index=False)"
   ]
  },
  {
   "cell_type": "markdown",
   "metadata": {},
   "source": [
    "## ETF ownership"
   ]
  },
  {
   "cell_type": "code",
   "execution_count": 2,
   "metadata": {},
   "outputs": [],
   "source": [
    "input_file = '/Users/jonathanzeh/Library/CloudStorage/OneDrive-Personal/BA_Thesis/BA_coding/datasets/eikon_data/fund_holdings_data/etf_data.csv'\n",
    "output_file = '/Users/jonathanzeh/Library/CloudStorage/OneDrive-Personal/BA_Thesis/BA_coding/datasets/eikon_data/fund_holdings_data/aggregated_data/etf_aggregated_data.csv'\n",
    "aggregation_function(input_file, output_file, type = \"etf\")"
   ]
  },
  {
   "cell_type": "markdown",
   "metadata": {},
   "source": [
    "## Mutual Fund ownership"
   ]
  },
  {
   "cell_type": "code",
   "execution_count": 3,
   "metadata": {},
   "outputs": [],
   "source": [
    "input_file = '/Users/jonathanzeh/Library/CloudStorage/OneDrive-Personal/BA_Thesis/BA_coding/datasets/eikon_data/fund_holdings_data/fund_data.csv'\n",
    "output_file = '/Users/jonathanzeh/Library/CloudStorage/OneDrive-Personal/BA_Thesis/BA_coding/datasets/eikon_data/fund_holdings_data/aggregated_data/fund_aggregated_data.csv'\n",
    "aggregation_function(input_file, output_file, type = \"mutual fund\")"
   ]
  },
  {
   "cell_type": "markdown",
   "metadata": {},
   "source": [
    "## Index Fund ownership"
   ]
  },
  {
   "cell_type": "code",
   "execution_count": 5,
   "metadata": {},
   "outputs": [],
   "source": [
    "input_file = '/Users/jonathanzeh/Library/CloudStorage/OneDrive-Personal/BA_Thesis/BA_coding/datasets/eikon_data/fund_holdings_data/index_fund_data.csv'\n",
    "output_file = '/Users/jonathanzeh/Library/CloudStorage/OneDrive-Personal/BA_Thesis/BA_coding/datasets/eikon_data/fund_holdings_data/aggregated_data/index_fund_aggregated_data.csv'\n",
    "aggregation_function(input_file, output_file, type = \"index fund\")"
   ]
  },
  {
   "cell_type": "markdown",
   "metadata": {},
   "source": [
    "## Active Fund ownership"
   ]
  },
  {
   "cell_type": "code",
   "execution_count": 6,
   "metadata": {},
   "outputs": [],
   "source": [
    "input_file = '/Users/jonathanzeh/Library/CloudStorage/OneDrive-Personal/BA_Thesis/BA_coding/datasets/eikon_data/fund_holdings_data/active_fund_data.csv'\n",
    "output_file = '/Users/jonathanzeh/Library/CloudStorage/OneDrive-Personal/BA_Thesis/BA_coding/datasets/eikon_data/fund_holdings_data/aggregated_data/active_fund_aggregated_data.csv'\n",
    "aggregation_function(input_file, output_file, type = \"active fund\")"
   ]
  },
  {
   "cell_type": "markdown",
   "metadata": {},
   "source": [
    "# Merge aggregated ETF and Fund ownership"
   ]
  },
  {
   "cell_type": "code",
   "execution_count": 8,
   "metadata": {},
   "outputs": [
    {
     "name": "stderr",
     "output_type": "stream",
     "text": [
      "/var/folders/m9/n85vv59j4lj5g5nndc07m8t40000gn/T/ipykernel_47639/3945656016.py:18: SettingWithCopyWarning: \n",
      "A value is trying to be set on a copy of a slice from a DataFrame\n",
      "\n",
      "See the caveats in the documentation: https://pandas.pydata.org/pandas-docs/stable/user_guide/indexing.html#returning-a-view-versus-a-copy\n",
      "  merged_df[column_added].fillna('NA', inplace=True)\n"
     ]
    },
    {
     "name": "stdout",
     "output_type": "stream",
     "text": [
      "Merged data has been saved to /Users/jonathanzeh/Library/CloudStorage/OneDrive-Personal/BA_Thesis/BA_coding/datasets/eikon_data/fund_holdings_data/formatted_final.csv\n"
     ]
    },
    {
     "name": "stderr",
     "output_type": "stream",
     "text": [
      "/var/folders/m9/n85vv59j4lj5g5nndc07m8t40000gn/T/ipykernel_47639/3945656016.py:18: SettingWithCopyWarning: \n",
      "A value is trying to be set on a copy of a slice from a DataFrame\n",
      "\n",
      "See the caveats in the documentation: https://pandas.pydata.org/pandas-docs/stable/user_guide/indexing.html#returning-a-view-versus-a-copy\n",
      "  merged_df[column_added].fillna('NA', inplace=True)\n"
     ]
    },
    {
     "name": "stdout",
     "output_type": "stream",
     "text": [
      "Merged data has been saved to /Users/jonathanzeh/Library/CloudStorage/OneDrive-Personal/BA_Thesis/BA_coding/datasets/eikon_data/fund_holdings_data/formatted_final.csv\n"
     ]
    },
    {
     "name": "stderr",
     "output_type": "stream",
     "text": [
      "/var/folders/m9/n85vv59j4lj5g5nndc07m8t40000gn/T/ipykernel_47639/3945656016.py:18: SettingWithCopyWarning: \n",
      "A value is trying to be set on a copy of a slice from a DataFrame\n",
      "\n",
      "See the caveats in the documentation: https://pandas.pydata.org/pandas-docs/stable/user_guide/indexing.html#returning-a-view-versus-a-copy\n",
      "  merged_df[column_added].fillna('NA', inplace=True)\n"
     ]
    },
    {
     "name": "stdout",
     "output_type": "stream",
     "text": [
      "Merged data has been saved to /Users/jonathanzeh/Library/CloudStorage/OneDrive-Personal/BA_Thesis/BA_coding/datasets/eikon_data/fund_holdings_data/formatted_final.csv\n"
     ]
    },
    {
     "name": "stderr",
     "output_type": "stream",
     "text": [
      "/var/folders/m9/n85vv59j4lj5g5nndc07m8t40000gn/T/ipykernel_47639/3945656016.py:18: SettingWithCopyWarning: \n",
      "A value is trying to be set on a copy of a slice from a DataFrame\n",
      "\n",
      "See the caveats in the documentation: https://pandas.pydata.org/pandas-docs/stable/user_guide/indexing.html#returning-a-view-versus-a-copy\n",
      "  merged_df[column_added].fillna('NA', inplace=True)\n"
     ]
    },
    {
     "name": "stdout",
     "output_type": "stream",
     "text": [
      "Merged data has been saved to /Users/jonathanzeh/Library/CloudStorage/OneDrive-Personal/BA_Thesis/BA_coding/datasets/eikon_data/fund_holdings_data/formatted_final.csv\n"
     ]
    },
    {
     "name": "stderr",
     "output_type": "stream",
     "text": [
      "/var/folders/m9/n85vv59j4lj5g5nndc07m8t40000gn/T/ipykernel_47639/3945656016.py:18: SettingWithCopyWarning: \n",
      "A value is trying to be set on a copy of a slice from a DataFrame\n",
      "\n",
      "See the caveats in the documentation: https://pandas.pydata.org/pandas-docs/stable/user_guide/indexing.html#returning-a-view-versus-a-copy\n",
      "  merged_df[column_added].fillna('NA', inplace=True)\n"
     ]
    },
    {
     "name": "stdout",
     "output_type": "stream",
     "text": [
      "Merged data has been saved to /Users/jonathanzeh/Library/CloudStorage/OneDrive-Personal/BA_Thesis/BA_coding/datasets/eikon_data/fund_holdings_data/formatted_final.csv\n"
     ]
    }
   ],
   "source": [
    "import pandas as pd\n",
    "\n",
    "def merge_csv_files(file1, file2, output_file, column_added):\n",
    "    df1 = pd.read_csv(file1)\n",
    "    df2 = pd.read_csv(file2)\n",
    "\n",
    "    key_columns = ['date', 'stock_RIC']\n",
    "\n",
    "    df1['date'] = pd.to_datetime(df1['date'])\n",
    "    df2['date'] = pd.to_datetime(df2['date'])\n",
    "\n",
    "    cols_to_keep = key_columns + column_added\n",
    "    df2 = df2[cols_to_keep]\n",
    "\n",
    "    merged_df = pd.merge(df1, df2, on=key_columns, how='left')\n",
    "\n",
    "    # Fill NA values in 'stock_value_held' with the desired placeholder if no match was found\n",
    "    merged_df[column_added].fillna('NA', inplace=True)\n",
    "\n",
    "    # Write the merged DataFrame to a new CSV file\n",
    "    merged_df.to_csv(output_file, index=False)\n",
    "    print(f\"Merged data has been saved to {output_file}\")\n",
    "\n",
    "\n",
    "formatted_index_member = '/Users/jonathanzeh/Library/CloudStorage/OneDrive-Personal/BA_Thesis/BA_coding/datasets/eikon_data/index_constituents_data/formated_constituents_stoxx_europe_600.csv'\n",
    "output_file = \"/Users/jonathanzeh/Library/CloudStorage/OneDrive-Personal/BA_Thesis/BA_coding/datasets/eikon_data/fund_holdings_data/formatted_final.csv\"\n",
    "\n",
    "file_etf = '/Users/jonathanzeh/Library/CloudStorage/OneDrive-Personal/BA_Thesis/BA_coding/datasets/eikon_data/fund_holdings_data/aggregated_data/etf_aggregated_data.csv'\n",
    "file_mutual_fund = \"/Users/jonathanzeh/Library/CloudStorage/OneDrive-Personal/BA_Thesis/BA_coding/datasets/eikon_data/fund_holdings_data/aggregated_data/fund_aggregated_data.csv\"\n",
    "file_index_fund = \"/Users/jonathanzeh/Library/CloudStorage/OneDrive-Personal/BA_Thesis/BA_coding/datasets/eikon_data/fund_holdings_data/aggregated_data/index_fund_aggregated_data.csv\"\n",
    "file_active_fund = \"/Users/jonathanzeh/Library/CloudStorage/OneDrive-Personal/BA_Thesis/BA_coding/datasets/eikon_data/fund_holdings_data/aggregated_data/active_fund_aggregated_data.csv\"\n",
    "\n",
    "file_m_stock = '/Users/jonathanzeh/Library/CloudStorage/OneDrive-Personal/BA_Thesis/BA_coding/datasets/eikon_data/stock_level_data/m_stock_level_data.csv'\n",
    "\n",
    "##### merge etf ownership with index memeber\n",
    "merge_csv_files(formatted_index_member, file_etf, output_file, ['stock_value_held', \"percent_of_traded_shares\"])\n",
    "\n",
    "##### merge fund ownership with the output file from the last function\n",
    "merge_csv_files(output_file, file_mutual_fund, output_file, [\"FUND_stock_value_held\", \"FUND_percent_of_traded_shares\"])\n",
    "merge_csv_files(output_file, file_index_fund, output_file, [\"INDEX_FUND_stock_value_held\", \"INDEX_FUND_percent_of_traded_shares\"])\n",
    "merge_csv_files(output_file, file_active_fund, output_file, [\"ACTIVE_FUND_stock_value_held\", \"ACTIVE_FUND_percent_of_traded_shares\"])\n",
    "\n",
    "#### add stock level data\n",
    "merge_csv_files(output_file, file_m_stock, output_file, ['market_cap'])"
   ]
  },
  {
   "cell_type": "markdown",
   "metadata": {},
   "source": [
    "## calculate ownership percentage based on market capitalization"
   ]
  },
  {
   "cell_type": "code",
   "execution_count": 9,
   "metadata": {},
   "outputs": [
    {
     "data": {
      "text/html": [
       "<div>\n",
       "<style scoped>\n",
       "    .dataframe tbody tr th:only-of-type {\n",
       "        vertical-align: middle;\n",
       "    }\n",
       "\n",
       "    .dataframe tbody tr th {\n",
       "        vertical-align: top;\n",
       "    }\n",
       "\n",
       "    .dataframe thead th {\n",
       "        text-align: right;\n",
       "    }\n",
       "</style>\n",
       "<table border=\"1\" class=\"dataframe\">\n",
       "  <thead>\n",
       "    <tr style=\"text-align: right;\">\n",
       "      <th></th>\n",
       "      <th>date</th>\n",
       "      <th>stock_RIC</th>\n",
       "      <th>index_member</th>\n",
       "      <th>stock_value_held</th>\n",
       "      <th>percent_of_traded_shares</th>\n",
       "      <th>FUND_stock_value_held</th>\n",
       "      <th>FUND_percent_of_traded_shares</th>\n",
       "      <th>INDEX_FUND_stock_value_held</th>\n",
       "      <th>INDEX_FUND_percent_of_traded_shares</th>\n",
       "      <th>ACTIVE_FUND_stock_value_held</th>\n",
       "      <th>ACTIVE_FUND_percent_of_traded_shares</th>\n",
       "      <th>market_cap</th>\n",
       "      <th>ETF_ownership</th>\n",
       "      <th>FUND_ownership</th>\n",
       "      <th>INDEX_FUND_ownership</th>\n",
       "      <th>ACTIVE_FUND_ownership</th>\n",
       "    </tr>\n",
       "  </thead>\n",
       "  <tbody>\n",
       "    <tr>\n",
       "      <th>0</th>\n",
       "      <td>2009-12-31</td>\n",
       "      <td>0MW4EUR.xbo^K15</td>\n",
       "      <td>0</td>\n",
       "      <td>10.386378</td>\n",
       "      <td>0.5011</td>\n",
       "      <td>119.213083</td>\n",
       "      <td>5.6151</td>\n",
       "      <td>11.926645</td>\n",
       "      <td>0.6070</td>\n",
       "      <td>107.286438</td>\n",
       "      <td>5.0081</td>\n",
       "      <td>NaN</td>\n",
       "      <td>NaN</td>\n",
       "      <td>NaN</td>\n",
       "      <td>NaN</td>\n",
       "      <td>NaN</td>\n",
       "    </tr>\n",
       "    <tr>\n",
       "      <th>1</th>\n",
       "      <td>2010-01-31</td>\n",
       "      <td>0MW4EUR.xbo^K15</td>\n",
       "      <td>0</td>\n",
       "      <td>10.497117</td>\n",
       "      <td>0.5016</td>\n",
       "      <td>112.354494</td>\n",
       "      <td>5.2454</td>\n",
       "      <td>8.299856</td>\n",
       "      <td>0.4206</td>\n",
       "      <td>104.054639</td>\n",
       "      <td>4.8248</td>\n",
       "      <td>NaN</td>\n",
       "      <td>NaN</td>\n",
       "      <td>NaN</td>\n",
       "      <td>NaN</td>\n",
       "      <td>NaN</td>\n",
       "    </tr>\n",
       "    <tr>\n",
       "      <th>2</th>\n",
       "      <td>2010-02-28</td>\n",
       "      <td>0MW4EUR.xbo^K15</td>\n",
       "      <td>0</td>\n",
       "      <td>9.157936</td>\n",
       "      <td>0.4714</td>\n",
       "      <td>136.100369</td>\n",
       "      <td>6.4882</td>\n",
       "      <td>7.903669</td>\n",
       "      <td>0.4086</td>\n",
       "      <td>128.196700</td>\n",
       "      <td>6.0796</td>\n",
       "      <td>NaN</td>\n",
       "      <td>NaN</td>\n",
       "      <td>NaN</td>\n",
       "      <td>NaN</td>\n",
       "      <td>NaN</td>\n",
       "    </tr>\n",
       "    <tr>\n",
       "      <th>3</th>\n",
       "      <td>2010-03-31</td>\n",
       "      <td>0MW4EUR.xbo^K15</td>\n",
       "      <td>0</td>\n",
       "      <td>10.744003</td>\n",
       "      <td>0.4934</td>\n",
       "      <td>149.553185</td>\n",
       "      <td>6.7480</td>\n",
       "      <td>7.153383</td>\n",
       "      <td>0.3600</td>\n",
       "      <td>142.399802</td>\n",
       "      <td>6.3880</td>\n",
       "      <td>NaN</td>\n",
       "      <td>NaN</td>\n",
       "      <td>NaN</td>\n",
       "      <td>NaN</td>\n",
       "      <td>NaN</td>\n",
       "    </tr>\n",
       "    <tr>\n",
       "      <th>4</th>\n",
       "      <td>2010-04-30</td>\n",
       "      <td>0MW4EUR.xbo^K15</td>\n",
       "      <td>0</td>\n",
       "      <td>9.726336</td>\n",
       "      <td>0.4578</td>\n",
       "      <td>139.564954</td>\n",
       "      <td>6.2827</td>\n",
       "      <td>14.385590</td>\n",
       "      <td>0.6743</td>\n",
       "      <td>125.179364</td>\n",
       "      <td>5.6084</td>\n",
       "      <td>NaN</td>\n",
       "      <td>NaN</td>\n",
       "      <td>NaN</td>\n",
       "      <td>NaN</td>\n",
       "      <td>NaN</td>\n",
       "    </tr>\n",
       "    <tr>\n",
       "      <th>...</th>\n",
       "      <td>...</td>\n",
       "      <td>...</td>\n",
       "      <td>...</td>\n",
       "      <td>...</td>\n",
       "      <td>...</td>\n",
       "      <td>...</td>\n",
       "      <td>...</td>\n",
       "      <td>...</td>\n",
       "      <td>...</td>\n",
       "      <td>...</td>\n",
       "      <td>...</td>\n",
       "      <td>...</td>\n",
       "      <td>...</td>\n",
       "      <td>...</td>\n",
       "      <td>...</td>\n",
       "      <td>...</td>\n",
       "    </tr>\n",
       "    <tr>\n",
       "      <th>196219</th>\n",
       "      <td>2023-07-31</td>\n",
       "      <td>ZURN.S</td>\n",
       "      <td>1</td>\n",
       "      <td>4180.070271</td>\n",
       "      <td>6.3278</td>\n",
       "      <td>19064.195360</td>\n",
       "      <td>28.8973</td>\n",
       "      <td>5710.362177</td>\n",
       "      <td>8.6452</td>\n",
       "      <td>13353.833183</td>\n",
       "      <td>20.2521</td>\n",
       "      <td>6.606391e+10</td>\n",
       "      <td>0.063273</td>\n",
       "      <td>0.288572</td>\n",
       "      <td>0.086437</td>\n",
       "      <td>0.202135</td>\n",
       "    </tr>\n",
       "    <tr>\n",
       "      <th>196220</th>\n",
       "      <td>2023-08-31</td>\n",
       "      <td>ZURN.S</td>\n",
       "      <td>1</td>\n",
       "      <td>4139.611296</td>\n",
       "      <td>6.5174</td>\n",
       "      <td>18901.923118</td>\n",
       "      <td>29.6819</td>\n",
       "      <td>5687.507826</td>\n",
       "      <td>8.9590</td>\n",
       "      <td>13214.415292</td>\n",
       "      <td>20.7229</td>\n",
       "      <td>6.344198e+10</td>\n",
       "      <td>0.065250</td>\n",
       "      <td>0.297940</td>\n",
       "      <td>0.089649</td>\n",
       "      <td>0.208291</td>\n",
       "    </tr>\n",
       "    <tr>\n",
       "      <th>196221</th>\n",
       "      <td>2023-09-30</td>\n",
       "      <td>ZURN.S</td>\n",
       "      <td>1</td>\n",
       "      <td>4109.144161</td>\n",
       "      <td>6.4619</td>\n",
       "      <td>18625.671378</td>\n",
       "      <td>29.2231</td>\n",
       "      <td>5646.716146</td>\n",
       "      <td>8.8776</td>\n",
       "      <td>12978.955232</td>\n",
       "      <td>20.3455</td>\n",
       "      <td>6.357877e+10</td>\n",
       "      <td>0.064631</td>\n",
       "      <td>0.292954</td>\n",
       "      <td>0.088814</td>\n",
       "      <td>0.204140</td>\n",
       "    </tr>\n",
       "    <tr>\n",
       "      <th>196222</th>\n",
       "      <td>2023-10-31</td>\n",
       "      <td>ZURN.S</td>\n",
       "      <td>1</td>\n",
       "      <td>4290.094268</td>\n",
       "      <td>6.5556</td>\n",
       "      <td>19011.235820</td>\n",
       "      <td>29.2812</td>\n",
       "      <td>5854.380449</td>\n",
       "      <td>8.9551</td>\n",
       "      <td>13156.855371</td>\n",
       "      <td>20.3261</td>\n",
       "      <td>6.545329e+10</td>\n",
       "      <td>0.065544</td>\n",
       "      <td>0.290455</td>\n",
       "      <td>0.089444</td>\n",
       "      <td>0.201011</td>\n",
       "    </tr>\n",
       "    <tr>\n",
       "      <th>196223</th>\n",
       "      <td>2023-11-30</td>\n",
       "      <td>ZURN.S</td>\n",
       "      <td>1</td>\n",
       "      <td>4580.636255</td>\n",
       "      <td>6.8119</td>\n",
       "      <td>19397.109345</td>\n",
       "      <td>29.3581</td>\n",
       "      <td>6043.103874</td>\n",
       "      <td>9.0072</td>\n",
       "      <td>13354.005471</td>\n",
       "      <td>20.3509</td>\n",
       "      <td>6.727570e+10</td>\n",
       "      <td>0.068088</td>\n",
       "      <td>0.288323</td>\n",
       "      <td>0.089826</td>\n",
       "      <td>0.198497</td>\n",
       "    </tr>\n",
       "  </tbody>\n",
       "</table>\n",
       "<p>196224 rows × 16 columns</p>\n",
       "</div>"
      ],
      "text/plain": [
       "              date        stock_RIC  index_member  stock_value_held  \\\n",
       "0       2009-12-31  0MW4EUR.xbo^K15             0         10.386378   \n",
       "1       2010-01-31  0MW4EUR.xbo^K15             0         10.497117   \n",
       "2       2010-02-28  0MW4EUR.xbo^K15             0          9.157936   \n",
       "3       2010-03-31  0MW4EUR.xbo^K15             0         10.744003   \n",
       "4       2010-04-30  0MW4EUR.xbo^K15             0          9.726336   \n",
       "...            ...              ...           ...               ...   \n",
       "196219  2023-07-31           ZURN.S             1       4180.070271   \n",
       "196220  2023-08-31           ZURN.S             1       4139.611296   \n",
       "196221  2023-09-30           ZURN.S             1       4109.144161   \n",
       "196222  2023-10-31           ZURN.S             1       4290.094268   \n",
       "196223  2023-11-30           ZURN.S             1       4580.636255   \n",
       "\n",
       "        percent_of_traded_shares  FUND_stock_value_held  \\\n",
       "0                         0.5011             119.213083   \n",
       "1                         0.5016             112.354494   \n",
       "2                         0.4714             136.100369   \n",
       "3                         0.4934             149.553185   \n",
       "4                         0.4578             139.564954   \n",
       "...                          ...                    ...   \n",
       "196219                    6.3278           19064.195360   \n",
       "196220                    6.5174           18901.923118   \n",
       "196221                    6.4619           18625.671378   \n",
       "196222                    6.5556           19011.235820   \n",
       "196223                    6.8119           19397.109345   \n",
       "\n",
       "        FUND_percent_of_traded_shares  INDEX_FUND_stock_value_held  \\\n",
       "0                              5.6151                    11.926645   \n",
       "1                              5.2454                     8.299856   \n",
       "2                              6.4882                     7.903669   \n",
       "3                              6.7480                     7.153383   \n",
       "4                              6.2827                    14.385590   \n",
       "...                               ...                          ...   \n",
       "196219                        28.8973                  5710.362177   \n",
       "196220                        29.6819                  5687.507826   \n",
       "196221                        29.2231                  5646.716146   \n",
       "196222                        29.2812                  5854.380449   \n",
       "196223                        29.3581                  6043.103874   \n",
       "\n",
       "        INDEX_FUND_percent_of_traded_shares  ACTIVE_FUND_stock_value_held  \\\n",
       "0                                    0.6070                    107.286438   \n",
       "1                                    0.4206                    104.054639   \n",
       "2                                    0.4086                    128.196700   \n",
       "3                                    0.3600                    142.399802   \n",
       "4                                    0.6743                    125.179364   \n",
       "...                                     ...                           ...   \n",
       "196219                               8.6452                  13353.833183   \n",
       "196220                               8.9590                  13214.415292   \n",
       "196221                               8.8776                  12978.955232   \n",
       "196222                               8.9551                  13156.855371   \n",
       "196223                               9.0072                  13354.005471   \n",
       "\n",
       "        ACTIVE_FUND_percent_of_traded_shares    market_cap  ETF_ownership  \\\n",
       "0                                     5.0081           NaN            NaN   \n",
       "1                                     4.8248           NaN            NaN   \n",
       "2                                     6.0796           NaN            NaN   \n",
       "3                                     6.3880           NaN            NaN   \n",
       "4                                     5.6084           NaN            NaN   \n",
       "...                                      ...           ...            ...   \n",
       "196219                               20.2521  6.606391e+10       0.063273   \n",
       "196220                               20.7229  6.344198e+10       0.065250   \n",
       "196221                               20.3455  6.357877e+10       0.064631   \n",
       "196222                               20.3261  6.545329e+10       0.065544   \n",
       "196223                               20.3509  6.727570e+10       0.068088   \n",
       "\n",
       "        FUND_ownership  INDEX_FUND_ownership  ACTIVE_FUND_ownership  \n",
       "0                  NaN                   NaN                    NaN  \n",
       "1                  NaN                   NaN                    NaN  \n",
       "2                  NaN                   NaN                    NaN  \n",
       "3                  NaN                   NaN                    NaN  \n",
       "4                  NaN                   NaN                    NaN  \n",
       "...                ...                   ...                    ...  \n",
       "196219        0.288572              0.086437               0.202135  \n",
       "196220        0.297940              0.089649               0.208291  \n",
       "196221        0.292954              0.088814               0.204140  \n",
       "196222        0.290455              0.089444               0.201011  \n",
       "196223        0.288323              0.089826               0.198497  \n",
       "\n",
       "[196224 rows x 16 columns]"
      ]
     },
     "metadata": {},
     "output_type": "display_data"
    }
   ],
   "source": [
    "import pandas as pd\n",
    "\n",
    "def calculate_ownership_percentage(file_path):\n",
    "    df = pd.read_csv(output_file, index_col=False)\n",
    "    df['ETF_ownership'] = (df[\"stock_value_held\"] * 1_000_000)/ df[\"market_cap\"]\n",
    "    df['FUND_ownership'] = (df[\"FUND_stock_value_held\"] * 1_000_000)/ df[\"market_cap\"]\n",
    "    df['INDEX_FUND_ownership'] = (df[\"INDEX_FUND_stock_value_held\"] * 1_000_000)/ df[\"market_cap\"]\n",
    "    df['ACTIVE_FUND_ownership'] = (df[\"ACTIVE_FUND_stock_value_held\"] * 1_000_000)/ df[\"market_cap\"]\n",
    "    df.to_csv(output_file, index=False)\n",
    "    display(df)\n",
    "\n",
    "\n",
    "file_path = \"/Users/jonathanzeh/Library/CloudStorage/OneDrive-Personal/BA_Thesis/BA_coding/datasets/eikon_data/fund_holdings_data/formatted_final.csv\"\n",
    "calculate_ownership_percentage(file_path)\n",
    "\n",
    "\n"
   ]
  }
 ],
 "metadata": {
  "kernelspec": {
   "display_name": "Python 3",
   "language": "python",
   "name": "python3"
  },
  "language_info": {
   "codemirror_mode": {
    "name": "ipython",
    "version": 3
   },
   "file_extension": ".py",
   "mimetype": "text/x-python",
   "name": "python",
   "nbconvert_exporter": "python",
   "pygments_lexer": "ipython3",
   "version": "3.11.5"
  }
 },
 "nbformat": 4,
 "nbformat_minor": 2
}
